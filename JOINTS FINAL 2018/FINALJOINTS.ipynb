{
  "nbformat": 4,
  "nbformat_minor": 0,
  "metadata": {
    "colab": {
      "name": "FINALJOINTS.ipynb",
      "version": "0.3.2",
      "provenance": [],
      "collapsed_sections": []
    },
    "kernelspec": {
      "name": "python3",
      "display_name": "Python 3"
    }
  },
  "cells": [
    {
      "metadata": {
        "id": "Pnvk06A1NIsA",
        "colab_type": "text"
      },
      "cell_type": "markdown",
      "source": [
        "## Ambil data"
      ]
    },
    {
      "metadata": {
        "id": "z6BgCWIcM5u-",
        "colab_type": "code",
        "colab": {
          "base_uri": "https://localhost:8080/",
          "height": 206
        },
        "outputId": "adcd58f4-8164-47a1-b01a-817179a09204"
      },
      "cell_type": "code",
      "source": [
        "!pip install -U -q PyDrive\n",
        "import os\n",
        "from pydrive.auth import GoogleAuth\n",
        "from pydrive.drive import GoogleDrive\n",
        "from google.colab import auth\n",
        "from oauth2client.client import GoogleCredentials\n",
        "\n",
        "# 1. Authenticate and create the PyDrive client.\n",
        "auth.authenticate_user()\n",
        "gauth = GoogleAuth()\n",
        "gauth.credentials = GoogleCredentials.get_application_default()\n",
        "drive = GoogleDrive(gauth)\n",
        "\n",
        "# choose a local (colab) directory to store the data.\n",
        "local_download_path = os.path.expanduser('~/data')\n",
        "try:\n",
        "  os.makedirs(local_download_path)\n",
        "except: pass\n",
        "\n",
        "# 2. Auto-iterate using the query syntax\n",
        "#    https://developers.google.com/drive/v2/web/search-parameters\n",
        "file_list = drive.ListFile(\n",
        "    {'q': \"'15wHhiqeNfFW1OzrFI0LdgLnE9o28UzAC' in parents\"}).GetList()\n",
        "\n",
        "for f in file_list:\n",
        "  # 3. Create & download by id.\n",
        "  print('title: %s, id: %s' % (f['title'], f['id']))\n",
        "  fname = os.path.join(local_download_path, f['title'])\n",
        "  print('downloading to {}'.format(fname))\n",
        "  f_ = drive.CreateFile({'id': f['id']})\n",
        "  f_.GetContentFile(fname)"
      ],
      "execution_count": 1,
      "outputs": [
        {
          "output_type": "stream",
          "text": [
            "title: train2.csv, id: 1WmX7WOkgLXc8bMAD7sxSCWxCeI7kPYB5\n",
            "downloading to /content/data/train2.csv\n",
            "title: test2.csv, id: 1M6i3x201aQFY1WrDER1cOAzcVk5G_7Vv\n",
            "downloading to /content/data/test2.csv\n",
            "title: train.csv, id: 1h6Xc_xZRMeTce4ZfLan_wJGTMfPK0Rq4\n",
            "downloading to /content/data/train.csv\n",
            "title: test.csv, id: 17QQlwUBmrX5VK2mRFK6aZ9XMN9NHCuJD\n",
            "downloading to /content/data/test.csv\n",
            "title: sample_submission.csv, id: 19C-53P--hLGtqSx0DMACT9LWj4XxsjsY\n",
            "downloading to /content/data/sample_submission.csv\n"
          ],
          "name": "stdout"
        }
      ]
    },
    {
      "metadata": {
        "id": "pX2BYHCDOCX0",
        "colab_type": "text"
      },
      "cell_type": "markdown",
      "source": [
        "# Eksplorasi Data"
      ]
    },
    {
      "metadata": {
        "id": "4aUVB7_1OFpQ",
        "colab_type": "text"
      },
      "cell_type": "markdown",
      "source": [
        "## Import"
      ]
    },
    {
      "metadata": {
        "id": "Sfiu6lyIOIve",
        "colab_type": "code",
        "colab": {}
      },
      "cell_type": "code",
      "source": [
        "import pandas as pd\n",
        "import numpy as np\n",
        "import seaborn as sns\n",
        "from matplotlib import pyplot as plt"
      ],
      "execution_count": 0,
      "outputs": []
    },
    {
      "metadata": {
        "id": "nBVzlAQlOR5I",
        "colab_type": "code",
        "colab": {}
      },
      "cell_type": "code",
      "source": [
        "data_train = pd.read_csv('/content/data/train.csv')\n",
        "data_test = pd.read_csv('/content/data/test.csv')"
      ],
      "execution_count": 0,
      "outputs": []
    },
    {
      "metadata": {
        "id": "-D13DQS-Og4w",
        "colab_type": "text"
      },
      "cell_type": "markdown",
      "source": [
        "## Summary\n",
        "\n",
        "---\n",
        "\n",
        "Dataset yang digunakan merupakan data Sensus Ekonomi\n",
        "Tahun\n",
        "2006 \n",
        "dari \n",
        "Propinsi Bengkulu, Kabupaten Kapahiang yang dilakukan oleh Badan Pusat Statistik.\n",
        "Dataset tersebut berisi data\n",
        "-\n",
        "data dari badan usaha yang berada di Kabupaten \n",
        "Kapahiang beserta beberapa fakta mengenai badan usaha yang bersangkutan. Fakta\n",
        "-\n",
        "fakta yang terkandung \n",
        "tersebut akan dibahas pada Penjelasan Kolom Dataset"
      ]
    },
    {
      "metadata": {
        "id": "8MjbeTWRReMU",
        "colab_type": "text"
      },
      "cell_type": "markdown",
      "source": [
        "### Kolom\n",
        "\n",
        "---\n",
        "\n",
        "1. prop = Propinsi tempat usaha\n",
        "2. kab = Kabupaten tempat usaha\n",
        "3. iduniq = Unique ID\n",
        "4. b4k6 = Jenis usaha (1-4)\n",
        "5. b4k71 = Bidang usaha (A-X)\n",
        "6. b4k81 = Jam buka\n",
        "7. b4k82 = Menit buka\n",
        "8. b4k91 = Jam tutup\n",
        "9. b4k92 = Menit tutup\n",
        "10. b4k10 = Jumlah tenaga kerja laki - laki\n",
        "11. b4k11 = Jumlah tenaga kerja perempuan\n",
        "12. b4k12 = Jumlah total tenaga kerja\n",
        "13. b4k13 = Aset tahun lalu\n",
        "14. b4k16 = Omset usaha per bulan (TARGET)\n",
        "15. b4k17 = Lama usaha dalam bulan"
      ]
    },
    {
      "metadata": {
        "id": "fmld3uzqc1eK",
        "colab_type": "code",
        "colab": {}
      },
      "cell_type": "code",
      "source": [
        "target = 'b4k16'"
      ],
      "execution_count": 0,
      "outputs": []
    },
    {
      "metadata": {
        "id": "r9qAD6XGRh8a",
        "colab_type": "code",
        "colab": {
          "base_uri": "https://localhost:8080/",
          "height": 74
        },
        "outputId": "2aa0bbb3-4efd-4d86-9591-a6ec2b9f10f5"
      },
      "cell_type": "code",
      "source": [
        "data_train.columns"
      ],
      "execution_count": 5,
      "outputs": [
        {
          "output_type": "execute_result",
          "data": {
            "text/plain": [
              "Index(['prop', 'kab', 'iduniq', 'b4k6', 'b4k71', 'b4k81', 'b4k82', 'b4k91',\n",
              "       'b4k92', 'b4k10', 'b4k11', 'b4k12', 'b4k13', 'b4k16', 'b4k17'],\n",
              "      dtype='object')"
            ]
          },
          "metadata": {
            "tags": []
          },
          "execution_count": 5
        }
      ]
    },
    {
      "metadata": {
        "id": "4Hs2HgHZOqv8",
        "colab_type": "text"
      },
      "cell_type": "markdown",
      "source": [
        "### Head"
      ]
    },
    {
      "metadata": {
        "id": "bslpCtkeOyCy",
        "colab_type": "code",
        "colab": {
          "base_uri": "https://localhost:8080/",
          "height": 206
        },
        "outputId": "a28af2fc-b799-4d4f-b6c7-650840e35f0d"
      },
      "cell_type": "code",
      "source": [
        "data_train.head()"
      ],
      "execution_count": 6,
      "outputs": [
        {
          "output_type": "execute_result",
          "data": {
            "text/html": [
              "<div>\n",
              "<style scoped>\n",
              "    .dataframe tbody tr th:only-of-type {\n",
              "        vertical-align: middle;\n",
              "    }\n",
              "\n",
              "    .dataframe tbody tr th {\n",
              "        vertical-align: top;\n",
              "    }\n",
              "\n",
              "    .dataframe thead th {\n",
              "        text-align: right;\n",
              "    }\n",
              "</style>\n",
              "<table border=\"1\" class=\"dataframe\">\n",
              "  <thead>\n",
              "    <tr style=\"text-align: right;\">\n",
              "      <th></th>\n",
              "      <th>prop</th>\n",
              "      <th>kab</th>\n",
              "      <th>iduniq</th>\n",
              "      <th>b4k6</th>\n",
              "      <th>b4k71</th>\n",
              "      <th>b4k81</th>\n",
              "      <th>b4k82</th>\n",
              "      <th>b4k91</th>\n",
              "      <th>b4k92</th>\n",
              "      <th>b4k10</th>\n",
              "      <th>b4k11</th>\n",
              "      <th>b4k12</th>\n",
              "      <th>b4k13</th>\n",
              "      <th>b4k16</th>\n",
              "      <th>b4k17</th>\n",
              "    </tr>\n",
              "  </thead>\n",
              "  <tbody>\n",
              "    <tr>\n",
              "      <th>0</th>\n",
              "      <td>17</td>\n",
              "      <td>8</td>\n",
              "      <td>845</td>\n",
              "      <td>2</td>\n",
              "      <td>H</td>\n",
              "      <td>7</td>\n",
              "      <td>0</td>\n",
              "      <td>12</td>\n",
              "      <td>0</td>\n",
              "      <td>0</td>\n",
              "      <td>1</td>\n",
              "      <td>1</td>\n",
              "      <td>1500000</td>\n",
              "      <td>900000</td>\n",
              "      <td>10</td>\n",
              "    </tr>\n",
              "    <tr>\n",
              "      <th>1</th>\n",
              "      <td>17</td>\n",
              "      <td>8</td>\n",
              "      <td>1535</td>\n",
              "      <td>2</td>\n",
              "      <td>H</td>\n",
              "      <td>7</td>\n",
              "      <td>0</td>\n",
              "      <td>12</td>\n",
              "      <td>0</td>\n",
              "      <td>0</td>\n",
              "      <td>1</td>\n",
              "      <td>1</td>\n",
              "      <td>1800000</td>\n",
              "      <td>750000</td>\n",
              "      <td>10</td>\n",
              "    </tr>\n",
              "    <tr>\n",
              "      <th>2</th>\n",
              "      <td>17</td>\n",
              "      <td>8</td>\n",
              "      <td>448</td>\n",
              "      <td>2</td>\n",
              "      <td>G</td>\n",
              "      <td>7</td>\n",
              "      <td>0</td>\n",
              "      <td>17</td>\n",
              "      <td>0</td>\n",
              "      <td>0</td>\n",
              "      <td>1</td>\n",
              "      <td>1</td>\n",
              "      <td>2500000</td>\n",
              "      <td>1500000</td>\n",
              "      <td>12</td>\n",
              "    </tr>\n",
              "    <tr>\n",
              "      <th>3</th>\n",
              "      <td>17</td>\n",
              "      <td>8</td>\n",
              "      <td>4152</td>\n",
              "      <td>2</td>\n",
              "      <td>G</td>\n",
              "      <td>8</td>\n",
              "      <td>0</td>\n",
              "      <td>16</td>\n",
              "      <td>0</td>\n",
              "      <td>0</td>\n",
              "      <td>1</td>\n",
              "      <td>1</td>\n",
              "      <td>150000</td>\n",
              "      <td>450000</td>\n",
              "      <td>12</td>\n",
              "    </tr>\n",
              "    <tr>\n",
              "      <th>4</th>\n",
              "      <td>17</td>\n",
              "      <td>8</td>\n",
              "      <td>73</td>\n",
              "      <td>2</td>\n",
              "      <td>G</td>\n",
              "      <td>8</td>\n",
              "      <td>0</td>\n",
              "      <td>20</td>\n",
              "      <td>0</td>\n",
              "      <td>1</td>\n",
              "      <td>0</td>\n",
              "      <td>1</td>\n",
              "      <td>500000</td>\n",
              "      <td>330000</td>\n",
              "      <td>4</td>\n",
              "    </tr>\n",
              "  </tbody>\n",
              "</table>\n",
              "</div>"
            ],
            "text/plain": [
              "   prop  kab  iduniq  b4k6 b4k71  b4k81  b4k82  b4k91  b4k92  b4k10  b4k11  \\\n",
              "0    17    8     845     2     H      7      0     12      0      0      1   \n",
              "1    17    8    1535     2     H      7      0     12      0      0      1   \n",
              "2    17    8     448     2     G      7      0     17      0      0      1   \n",
              "3    17    8    4152     2     G      8      0     16      0      0      1   \n",
              "4    17    8      73     2     G      8      0     20      0      1      0   \n",
              "\n",
              "   b4k12    b4k13    b4k16  b4k17  \n",
              "0      1  1500000   900000     10  \n",
              "1      1  1800000   750000     10  \n",
              "2      1  2500000  1500000     12  \n",
              "3      1   150000   450000     12  \n",
              "4      1   500000   330000      4  "
            ]
          },
          "metadata": {
            "tags": []
          },
          "execution_count": 6
        }
      ]
    },
    {
      "metadata": {
        "id": "OJsds1oWR2Im",
        "colab_type": "text"
      },
      "cell_type": "markdown",
      "source": [
        "Bedasarkan penjelasan dataset, dataset yang digunakan adalah Sensus Ekonomi Tahun 2006 dari Propinsi Bengkulu, Kabupaten Kapahiang. Sehingga kolom prop dan kab tidak dibutuhkan, karena nilainya pasti semua sama."
      ]
    },
    {
      "metadata": {
        "id": "U5Z_POi0Skz4",
        "colab_type": "code",
        "colab": {
          "base_uri": "https://localhost:8080/",
          "height": 206
        },
        "outputId": "cdf35f9c-f483-4c47-d1cb-e356f5c13e66"
      },
      "cell_type": "code",
      "source": [
        "# Drop kolom prop dan kab\n",
        "data_train = data_train.drop(['prop', 'kab'], axis = 1)\n",
        "data_test = data_test.drop(['prop', 'kab'], axis = 1)\n",
        "data_train.head()"
      ],
      "execution_count": 7,
      "outputs": [
        {
          "output_type": "execute_result",
          "data": {
            "text/html": [
              "<div>\n",
              "<style scoped>\n",
              "    .dataframe tbody tr th:only-of-type {\n",
              "        vertical-align: middle;\n",
              "    }\n",
              "\n",
              "    .dataframe tbody tr th {\n",
              "        vertical-align: top;\n",
              "    }\n",
              "\n",
              "    .dataframe thead th {\n",
              "        text-align: right;\n",
              "    }\n",
              "</style>\n",
              "<table border=\"1\" class=\"dataframe\">\n",
              "  <thead>\n",
              "    <tr style=\"text-align: right;\">\n",
              "      <th></th>\n",
              "      <th>iduniq</th>\n",
              "      <th>b4k6</th>\n",
              "      <th>b4k71</th>\n",
              "      <th>b4k81</th>\n",
              "      <th>b4k82</th>\n",
              "      <th>b4k91</th>\n",
              "      <th>b4k92</th>\n",
              "      <th>b4k10</th>\n",
              "      <th>b4k11</th>\n",
              "      <th>b4k12</th>\n",
              "      <th>b4k13</th>\n",
              "      <th>b4k16</th>\n",
              "      <th>b4k17</th>\n",
              "    </tr>\n",
              "  </thead>\n",
              "  <tbody>\n",
              "    <tr>\n",
              "      <th>0</th>\n",
              "      <td>845</td>\n",
              "      <td>2</td>\n",
              "      <td>H</td>\n",
              "      <td>7</td>\n",
              "      <td>0</td>\n",
              "      <td>12</td>\n",
              "      <td>0</td>\n",
              "      <td>0</td>\n",
              "      <td>1</td>\n",
              "      <td>1</td>\n",
              "      <td>1500000</td>\n",
              "      <td>900000</td>\n",
              "      <td>10</td>\n",
              "    </tr>\n",
              "    <tr>\n",
              "      <th>1</th>\n",
              "      <td>1535</td>\n",
              "      <td>2</td>\n",
              "      <td>H</td>\n",
              "      <td>7</td>\n",
              "      <td>0</td>\n",
              "      <td>12</td>\n",
              "      <td>0</td>\n",
              "      <td>0</td>\n",
              "      <td>1</td>\n",
              "      <td>1</td>\n",
              "      <td>1800000</td>\n",
              "      <td>750000</td>\n",
              "      <td>10</td>\n",
              "    </tr>\n",
              "    <tr>\n",
              "      <th>2</th>\n",
              "      <td>448</td>\n",
              "      <td>2</td>\n",
              "      <td>G</td>\n",
              "      <td>7</td>\n",
              "      <td>0</td>\n",
              "      <td>17</td>\n",
              "      <td>0</td>\n",
              "      <td>0</td>\n",
              "      <td>1</td>\n",
              "      <td>1</td>\n",
              "      <td>2500000</td>\n",
              "      <td>1500000</td>\n",
              "      <td>12</td>\n",
              "    </tr>\n",
              "    <tr>\n",
              "      <th>3</th>\n",
              "      <td>4152</td>\n",
              "      <td>2</td>\n",
              "      <td>G</td>\n",
              "      <td>8</td>\n",
              "      <td>0</td>\n",
              "      <td>16</td>\n",
              "      <td>0</td>\n",
              "      <td>0</td>\n",
              "      <td>1</td>\n",
              "      <td>1</td>\n",
              "      <td>150000</td>\n",
              "      <td>450000</td>\n",
              "      <td>12</td>\n",
              "    </tr>\n",
              "    <tr>\n",
              "      <th>4</th>\n",
              "      <td>73</td>\n",
              "      <td>2</td>\n",
              "      <td>G</td>\n",
              "      <td>8</td>\n",
              "      <td>0</td>\n",
              "      <td>20</td>\n",
              "      <td>0</td>\n",
              "      <td>1</td>\n",
              "      <td>0</td>\n",
              "      <td>1</td>\n",
              "      <td>500000</td>\n",
              "      <td>330000</td>\n",
              "      <td>4</td>\n",
              "    </tr>\n",
              "  </tbody>\n",
              "</table>\n",
              "</div>"
            ],
            "text/plain": [
              "   iduniq  b4k6 b4k71  b4k81  b4k82  b4k91  b4k92  b4k10  b4k11  b4k12  \\\n",
              "0     845     2     H      7      0     12      0      0      1      1   \n",
              "1    1535     2     H      7      0     12      0      0      1      1   \n",
              "2     448     2     G      7      0     17      0      0      1      1   \n",
              "3    4152     2     G      8      0     16      0      0      1      1   \n",
              "4      73     2     G      8      0     20      0      1      0      1   \n",
              "\n",
              "     b4k13    b4k16  b4k17  \n",
              "0  1500000   900000     10  \n",
              "1  1800000   750000     10  \n",
              "2  2500000  1500000     12  \n",
              "3   150000   450000     12  \n",
              "4   500000   330000      4  "
            ]
          },
          "metadata": {
            "tags": []
          },
          "execution_count": 7
        }
      ]
    },
    {
      "metadata": {
        "id": "V90EZKTbTC-U",
        "colab_type": "text"
      },
      "cell_type": "markdown",
      "source": [
        "Kolom jam dan menit terpisah, padahal waktu itu merupakan satu kategori, 9.30 tentu saja beda dengan 18.30, walaupun menitnya sama-sama 30.\n",
        "\n",
        "Kita akan menggabungkan kolom jam dan menit, menjadi kolom menit saja (dimulai dari 00.00). Kemudian membuat kolom baru yaitu kolom lama tempat usaha buka, dengan asumsi awal bahwa lama buka biasanya mempengaruhi pendapatan (untuk beberapa jenis usaha, contohnya usaha jual beli)."
      ]
    },
    {
      "metadata": {
        "id": "zntB1xyzU97U",
        "colab_type": "code",
        "colab": {
          "base_uri": "https://localhost:8080/",
          "height": 206
        },
        "outputId": "51b9f35f-670a-4afd-ca19-8dd5bfe6fe32"
      },
      "cell_type": "code",
      "source": [
        "# Menggabungkan kolom jam dan menit (buka dan tutup), dan menambah kolom durasi\n",
        "data_train['buka'] = data_train['b4k81'] * 60 + data_train['b4k82']\n",
        "data_train['tutup'] = data_train['b4k91'] * 60 + data_train['b4k92']\n",
        "data_train = data_train.drop(['b4k81', 'b4k82', 'b4k91', 'b4k92'], axis = 1)\n",
        "data_train['durasi'] = data_train['tutup'] - data_train['buka']\n",
        "data_train.head()"
      ],
      "execution_count": 8,
      "outputs": [
        {
          "output_type": "execute_result",
          "data": {
            "text/html": [
              "<div>\n",
              "<style scoped>\n",
              "    .dataframe tbody tr th:only-of-type {\n",
              "        vertical-align: middle;\n",
              "    }\n",
              "\n",
              "    .dataframe tbody tr th {\n",
              "        vertical-align: top;\n",
              "    }\n",
              "\n",
              "    .dataframe thead th {\n",
              "        text-align: right;\n",
              "    }\n",
              "</style>\n",
              "<table border=\"1\" class=\"dataframe\">\n",
              "  <thead>\n",
              "    <tr style=\"text-align: right;\">\n",
              "      <th></th>\n",
              "      <th>iduniq</th>\n",
              "      <th>b4k6</th>\n",
              "      <th>b4k71</th>\n",
              "      <th>b4k10</th>\n",
              "      <th>b4k11</th>\n",
              "      <th>b4k12</th>\n",
              "      <th>b4k13</th>\n",
              "      <th>b4k16</th>\n",
              "      <th>b4k17</th>\n",
              "      <th>buka</th>\n",
              "      <th>tutup</th>\n",
              "      <th>durasi</th>\n",
              "    </tr>\n",
              "  </thead>\n",
              "  <tbody>\n",
              "    <tr>\n",
              "      <th>0</th>\n",
              "      <td>845</td>\n",
              "      <td>2</td>\n",
              "      <td>H</td>\n",
              "      <td>0</td>\n",
              "      <td>1</td>\n",
              "      <td>1</td>\n",
              "      <td>1500000</td>\n",
              "      <td>900000</td>\n",
              "      <td>10</td>\n",
              "      <td>420</td>\n",
              "      <td>720</td>\n",
              "      <td>300</td>\n",
              "    </tr>\n",
              "    <tr>\n",
              "      <th>1</th>\n",
              "      <td>1535</td>\n",
              "      <td>2</td>\n",
              "      <td>H</td>\n",
              "      <td>0</td>\n",
              "      <td>1</td>\n",
              "      <td>1</td>\n",
              "      <td>1800000</td>\n",
              "      <td>750000</td>\n",
              "      <td>10</td>\n",
              "      <td>420</td>\n",
              "      <td>720</td>\n",
              "      <td>300</td>\n",
              "    </tr>\n",
              "    <tr>\n",
              "      <th>2</th>\n",
              "      <td>448</td>\n",
              "      <td>2</td>\n",
              "      <td>G</td>\n",
              "      <td>0</td>\n",
              "      <td>1</td>\n",
              "      <td>1</td>\n",
              "      <td>2500000</td>\n",
              "      <td>1500000</td>\n",
              "      <td>12</td>\n",
              "      <td>420</td>\n",
              "      <td>1020</td>\n",
              "      <td>600</td>\n",
              "    </tr>\n",
              "    <tr>\n",
              "      <th>3</th>\n",
              "      <td>4152</td>\n",
              "      <td>2</td>\n",
              "      <td>G</td>\n",
              "      <td>0</td>\n",
              "      <td>1</td>\n",
              "      <td>1</td>\n",
              "      <td>150000</td>\n",
              "      <td>450000</td>\n",
              "      <td>12</td>\n",
              "      <td>480</td>\n",
              "      <td>960</td>\n",
              "      <td>480</td>\n",
              "    </tr>\n",
              "    <tr>\n",
              "      <th>4</th>\n",
              "      <td>73</td>\n",
              "      <td>2</td>\n",
              "      <td>G</td>\n",
              "      <td>1</td>\n",
              "      <td>0</td>\n",
              "      <td>1</td>\n",
              "      <td>500000</td>\n",
              "      <td>330000</td>\n",
              "      <td>4</td>\n",
              "      <td>480</td>\n",
              "      <td>1200</td>\n",
              "      <td>720</td>\n",
              "    </tr>\n",
              "  </tbody>\n",
              "</table>\n",
              "</div>"
            ],
            "text/plain": [
              "   iduniq  b4k6 b4k71  b4k10  b4k11  b4k12    b4k13    b4k16  b4k17  buka  \\\n",
              "0     845     2     H      0      1      1  1500000   900000     10   420   \n",
              "1    1535     2     H      0      1      1  1800000   750000     10   420   \n",
              "2     448     2     G      0      1      1  2500000  1500000     12   420   \n",
              "3    4152     2     G      0      1      1   150000   450000     12   480   \n",
              "4      73     2     G      1      0      1   500000   330000      4   480   \n",
              "\n",
              "   tutup  durasi  \n",
              "0    720     300  \n",
              "1    720     300  \n",
              "2   1020     600  \n",
              "3    960     480  \n",
              "4   1200     720  "
            ]
          },
          "metadata": {
            "tags": []
          },
          "execution_count": 8
        }
      ]
    },
    {
      "metadata": {
        "id": "XkSdPiAjWX2w",
        "colab_type": "code",
        "colab": {
          "base_uri": "https://localhost:8080/",
          "height": 206
        },
        "outputId": "858e74af-d8df-4dbb-ae3f-6cd00eabe90a"
      },
      "cell_type": "code",
      "source": [
        "# Menggabungkan kolom jam dan menit (buka dan tutup), dan menambah kolom durasi\n",
        "data_test['buka'] = data_test['b4k81'] * 60 + data_test['b4k82']\n",
        "data_test['tutup'] = data_test['b4k91'] * 60 + data_test['b4k92']\n",
        "data_test = data_test.drop(['b4k81', 'b4k82', 'b4k91', 'b4k92'], axis = 1)\n",
        "data_test['durasi'] = data_test['tutup'] - data_test['buka']\n",
        "data_test.head()"
      ],
      "execution_count": 9,
      "outputs": [
        {
          "output_type": "execute_result",
          "data": {
            "text/html": [
              "<div>\n",
              "<style scoped>\n",
              "    .dataframe tbody tr th:only-of-type {\n",
              "        vertical-align: middle;\n",
              "    }\n",
              "\n",
              "    .dataframe tbody tr th {\n",
              "        vertical-align: top;\n",
              "    }\n",
              "\n",
              "    .dataframe thead th {\n",
              "        text-align: right;\n",
              "    }\n",
              "</style>\n",
              "<table border=\"1\" class=\"dataframe\">\n",
              "  <thead>\n",
              "    <tr style=\"text-align: right;\">\n",
              "      <th></th>\n",
              "      <th>iduniq</th>\n",
              "      <th>b4k6</th>\n",
              "      <th>b4k71</th>\n",
              "      <th>b4k10</th>\n",
              "      <th>b4k11</th>\n",
              "      <th>b4k12</th>\n",
              "      <th>b4k13</th>\n",
              "      <th>b4k17</th>\n",
              "      <th>buka</th>\n",
              "      <th>tutup</th>\n",
              "      <th>durasi</th>\n",
              "    </tr>\n",
              "  </thead>\n",
              "  <tbody>\n",
              "    <tr>\n",
              "      <th>0</th>\n",
              "      <td>887</td>\n",
              "      <td>3</td>\n",
              "      <td>G</td>\n",
              "      <td>1</td>\n",
              "      <td>0</td>\n",
              "      <td>1</td>\n",
              "      <td>7200000</td>\n",
              "      <td>8</td>\n",
              "      <td>480.0</td>\n",
              "      <td>1020</td>\n",
              "      <td>540.0</td>\n",
              "    </tr>\n",
              "    <tr>\n",
              "      <th>1</th>\n",
              "      <td>3600</td>\n",
              "      <td>3</td>\n",
              "      <td>G</td>\n",
              "      <td>1</td>\n",
              "      <td>0</td>\n",
              "      <td>1</td>\n",
              "      <td>3000000</td>\n",
              "      <td>6</td>\n",
              "      <td>420.0</td>\n",
              "      <td>1020</td>\n",
              "      <td>600.0</td>\n",
              "    </tr>\n",
              "    <tr>\n",
              "      <th>2</th>\n",
              "      <td>1021</td>\n",
              "      <td>3</td>\n",
              "      <td>G</td>\n",
              "      <td>1</td>\n",
              "      <td>0</td>\n",
              "      <td>1</td>\n",
              "      <td>7500000</td>\n",
              "      <td>10</td>\n",
              "      <td>780.0</td>\n",
              "      <td>1020</td>\n",
              "      <td>240.0</td>\n",
              "    </tr>\n",
              "    <tr>\n",
              "      <th>3</th>\n",
              "      <td>1698</td>\n",
              "      <td>1</td>\n",
              "      <td>H</td>\n",
              "      <td>0</td>\n",
              "      <td>1</td>\n",
              "      <td>1</td>\n",
              "      <td>7200000</td>\n",
              "      <td>6</td>\n",
              "      <td>960.0</td>\n",
              "      <td>1380</td>\n",
              "      <td>420.0</td>\n",
              "    </tr>\n",
              "    <tr>\n",
              "      <th>4</th>\n",
              "      <td>1986</td>\n",
              "      <td>1</td>\n",
              "      <td>H</td>\n",
              "      <td>0</td>\n",
              "      <td>1</td>\n",
              "      <td>1</td>\n",
              "      <td>9000000</td>\n",
              "      <td>6</td>\n",
              "      <td>1020.0</td>\n",
              "      <td>1320</td>\n",
              "      <td>300.0</td>\n",
              "    </tr>\n",
              "  </tbody>\n",
              "</table>\n",
              "</div>"
            ],
            "text/plain": [
              "   iduniq  b4k6 b4k71  b4k10  b4k11  b4k12    b4k13  b4k17    buka  tutup  \\\n",
              "0     887     3     G      1      0      1  7200000      8   480.0   1020   \n",
              "1    3600     3     G      1      0      1  3000000      6   420.0   1020   \n",
              "2    1021     3     G      1      0      1  7500000     10   780.0   1020   \n",
              "3    1698     1     H      0      1      1  7200000      6   960.0   1380   \n",
              "4    1986     1     H      0      1      1  9000000      6  1020.0   1320   \n",
              "\n",
              "   durasi  \n",
              "0   540.0  \n",
              "1   600.0  \n",
              "2   240.0  \n",
              "3   420.0  \n",
              "4   300.0  "
            ]
          },
          "metadata": {
            "tags": []
          },
          "execution_count": 9
        }
      ]
    },
    {
      "metadata": {
        "id": "wDfWu_EVW71u",
        "colab_type": "text"
      },
      "cell_type": "markdown",
      "source": [
        "Sedangkan untuk jumlah tenaga kerja, kita tidak perlu melakukan apapun. Karena informasi tentang jumlah laki-laki dan perempuan dapat digunakan untuk menebak jenis usaha. Misalnya pabrik yang memiliki tenaga kerja campuran, salon yang hanya ada perempuan, dan konstruksi yang hanya ada laki-laki. Total jumlah tenaga kerja juga perlu untuk dapat melihat seberapa besar tempat usaha, dan untung saja sudah disediakan sehingga kita tidak perlu melakukan perhitungan."
      ]
    },
    {
      "metadata": {
        "id": "2_j3vTv1YFaw",
        "colab_type": "text"
      },
      "cell_type": "markdown",
      "source": [
        "## Eksplorasi Masing-Masing Data"
      ]
    },
    {
      "metadata": {
        "id": "M-1Anj-xZh8K",
        "colab_type": "text"
      },
      "cell_type": "markdown",
      "source": [
        "### b4k16 (Omset per bulan) (TARGET)"
      ]
    },
    {
      "metadata": {
        "id": "iPENFtRcZvwW",
        "colab_type": "code",
        "colab": {
          "base_uri": "https://localhost:8080/",
          "height": 187
        },
        "outputId": "51b61837-dd0d-4791-e582-8099788b3b9e"
      },
      "cell_type": "code",
      "source": [
        "pd.set_option('display.float_format', lambda x: '%.3f' % x)\n",
        "data_train['b4k16'].describe()"
      ],
      "execution_count": 10,
      "outputs": [
        {
          "output_type": "execute_result",
          "data": {
            "text/plain": [
              "count       3123.000\n",
              "mean     1311877.201\n",
              "std      2237086.313\n",
              "min         5000.000\n",
              "25%       450000.000\n",
              "50%       750000.000\n",
              "75%      1200000.000\n",
              "max     45000000.000\n",
              "Name: b4k16, dtype: float64"
            ]
          },
          "metadata": {
            "tags": []
          },
          "execution_count": 10
        }
      ]
    },
    {
      "metadata": {
        "id": "uZN7w2Joby6Y",
        "colab_type": "code",
        "colab": {
          "base_uri": "https://localhost:8080/",
          "height": 372
        },
        "outputId": "91520a25-39aa-47cf-c9e0-e7fe3a6c721e"
      },
      "cell_type": "code",
      "source": [
        "sns.distplot(data_train['b4k16']);"
      ],
      "execution_count": 11,
      "outputs": [
        {
          "output_type": "display_data",
          "data": {
            "image/png": "[encoded data removed]",
            "text/plain": [
              "<matplotlib.figure.Figure at 0x7fb915c57cf8>"
            ]
          },
          "metadata": {
            "tags": []
          }
        }
      ]
    },
    {
      "metadata": {
        "id": "8tfBqDEdm6l4",
        "colab_type": "code",
        "colab": {
          "base_uri": "https://localhost:8080/",
          "height": 36
        },
        "outputId": "d4a2d3c8-dc96-4d28-c4e3-1ed6ab92b7a3"
      },
      "cell_type": "code",
      "source": [
        "len(data_train[data_train[target] < 516000])/(1.0*len(data_train))"
      ],
      "execution_count": 12,
      "outputs": [
        {
          "output_type": "execute_result",
          "data": {
            "text/plain": [
              "0.3442203009926353"
            ]
          },
          "metadata": {
            "tags": []
          },
          "execution_count": 12
        }
      ]
    },
    {
      "metadata": {
        "id": "TJzd52iFe9GE",
        "colab_type": "text"
      },
      "cell_type": "markdown",
      "source": [
        "Sebagian besar data (~34%) berada di rentang omset < Rp 516.000,00, sedangkan UMR Provinsi Bengkulu tahun 2006 adalah Rp 516.000,00 (Bappenas). Asumsi awal : Sebagian besar data adalah data perseorangan, karena omset < Rp 516.000,00 tidak dapat mencukupi lebih dari 1 orang dan data dengan tenaga kerja > 1 orang pasti omsetnya di atas UMR."
      ]
    },
    {
      "metadata": {
        "id": "tC4BK4xcY0Sg",
        "colab_type": "text"
      },
      "cell_type": "markdown",
      "source": [
        "### b4k6 (Jenis usaha)\n",
        "\n",
        "---\n",
        "\n",
        "\n",
        "1. Los Koridor\n",
        "2. Kaki Lima\n",
        "3. Keliling\n",
        "4. Pangkalan"
      ]
    },
    {
      "metadata": {
        "id": "Wc6F2ZMJZR7a",
        "colab_type": "code",
        "colab": {
          "base_uri": "https://localhost:8080/",
          "height": 437
        },
        "outputId": "129363a2-2d84-4221-c85d-a11314e4bb14"
      },
      "cell_type": "code",
      "source": [
        "#box plot b4k6\n",
        "var = 'b4k6'\n",
        "data = pd.concat([data_train[target], data_train[var]], axis=1)\n",
        "f, ax = plt.subplots(figsize=(8, 6))\n",
        "fig = sns.boxplot(x=var, y=target, data=data)\n",
        "fig.axis(ymin=0, ymax=45000000);"
      ],
      "execution_count": 13,
      "outputs": [
        {
          "output_type": "stream",
          "text": [
            "/usr/local/lib/python3.6/dist-packages/seaborn/categorical.py:454: FutureWarning: remove_na is deprecated and is a private function. Do not use.\n",
            "  box_data = remove_na(group_data)\n"
          ],
          "name": "stderr"
        },
        {
          "output_type": "display_data",
          "data": {
            "image/png": "[encoded data removed]",
            "text/plain": [
              "<matplotlib.figure.Figure at 0x7fb915bc0160>"
            ]
          },
          "metadata": {
            "tags": []
          }
        }
      ]
    },
    {
      "metadata": {
        "id": "vF98pBbHdi8a",
        "colab_type": "code",
        "colab": {
          "base_uri": "https://localhost:8080/",
          "height": 430
        },
        "outputId": "cb595a84-b708-415d-cadc-a8dfddc994a4"
      },
      "cell_type": "code",
      "source": [
        "#box plot b4k6\n",
        "var = 'b4k6'\n",
        "data = pd.concat([data_train[target], data_train[var]], axis=1)\n",
        "f, ax = plt.subplots(figsize=(8, 6))\n",
        "fig = sns.boxplot(x=var, y=target, data=data)\n",
        "fig.axis(ymin=0, ymax=5000000);"
      ],
      "execution_count": 14,
      "outputs": [
        {
          "output_type": "stream",
          "text": [
            "/usr/local/lib/python3.6/dist-packages/seaborn/categorical.py:454: FutureWarning: remove_na is deprecated and is a private function. Do not use.\n",
            "  box_data = remove_na(group_data)\n"
          ],
          "name": "stderr"
        },
        {
          "output_type": "display_data",
          "data": {
            "image/png": "[encoded data removed]",
            "text/plain": [
              "<matplotlib.figure.Figure at 0x7fb913a6d668>"
            ]
          },
          "metadata": {
            "tags": []
          }
        }
      ]
    },
    {
      "metadata": {
        "id": "gb8ipAXGeAH2",
        "colab_type": "text"
      },
      "cell_type": "markdown",
      "source": [
        "Banyak sekali outlier, tapi masih terlihat perbedaan tinggi pada masing masing IQR (inter quartile range). Data tetap dipakai"
      ]
    },
    {
      "metadata": {
        "id": "VZS5Cy3ye1jw",
        "colab_type": "text"
      },
      "cell_type": "markdown",
      "source": [
        "### b4k71 (bidang usaha)"
      ]
    },
    {
      "metadata": {
        "id": "szotwi_BhzN6",
        "colab_type": "code",
        "colab": {
          "base_uri": "https://localhost:8080/",
          "height": 187
        },
        "outputId": "f29f64a9-22f5-4d63-8f38-b5fe4c23148b"
      },
      "cell_type": "code",
      "source": [
        "data_train['b4k71'].value_counts()"
      ],
      "execution_count": 15,
      "outputs": [
        {
          "output_type": "execute_result",
          "data": {
            "text/plain": [
              "G    1651\n",
              "I    1185\n",
              "H     182\n",
              "O      82\n",
              "D      15\n",
              "P       6\n",
              "K       1\n",
              "J       1\n",
              "Name: b4k71, dtype: int64"
            ]
          },
          "metadata": {
            "tags": []
          },
          "execution_count": 15
        }
      ]
    },
    {
      "metadata": {
        "id": "tbqZSH1xijTU",
        "colab_type": "text"
      },
      "cell_type": "markdown",
      "source": [
        "Tidak ada kategori X, semua bidang usaha pasti. Perdagangan dan Transportasi mendominasi bidang usaha."
      ]
    },
    {
      "metadata": {
        "id": "S46F-XLEjNwY",
        "colab_type": "code",
        "colab": {
          "base_uri": "https://localhost:8080/",
          "height": 437
        },
        "outputId": "7d887c27-50a5-4241-ffe0-9ef3dae2c910"
      },
      "cell_type": "code",
      "source": [
        "#box plot b4k6\n",
        "var = 'b4k71'\n",
        "data = pd.concat([data_train[target], data_train[var]], axis=1)\n",
        "f, ax = plt.subplots(figsize=(8, 6))\n",
        "fig = sns.boxplot(x=var, y=target, data=data)\n",
        "fig.axis(ymin=0, ymax=45000000);"
      ],
      "execution_count": 16,
      "outputs": [
        {
          "output_type": "stream",
          "text": [
            "/usr/local/lib/python3.6/dist-packages/seaborn/categorical.py:454: FutureWarning: remove_na is deprecated and is a private function. Do not use.\n",
            "  box_data = remove_na(group_data)\n"
          ],
          "name": "stderr"
        },
        {
          "output_type": "display_data",
          "data": {
            "image/png": "[encoded data removed]",
            "text/plain": [
              "<matplotlib.figure.Figure at 0x7fb9139c2278>"
            ]
          },
          "metadata": {
            "tags": []
          }
        }
      ]
    },
    {
      "metadata": {
        "id": "vIWFUoKqjZkW",
        "colab_type": "code",
        "colab": {
          "base_uri": "https://localhost:8080/",
          "height": 430
        },
        "outputId": "3ef59f9e-c031-48bc-9552-a4f9e37c3f42"
      },
      "cell_type": "code",
      "source": [
        "#box plot b4k6\n",
        "var = 'b4k71'\n",
        "data = pd.concat([data_train[target], data_train[var]], axis=1)\n",
        "f, ax = plt.subplots(figsize=(8, 6))\n",
        "fig = sns.boxplot(x=var, y=target, data=data)\n",
        "fig.axis(ymin=0, ymax=5000000);"
      ],
      "execution_count": 17,
      "outputs": [
        {
          "output_type": "stream",
          "text": [
            "/usr/local/lib/python3.6/dist-packages/seaborn/categorical.py:454: FutureWarning: remove_na is deprecated and is a private function. Do not use.\n",
            "  box_data = remove_na(group_data)\n"
          ],
          "name": "stderr"
        },
        {
          "output_type": "display_data",
          "data": {
            "image/png": "[encoded data removed]",
            "text/plain": [
              "<matplotlib.figure.Figure at 0x7fb913a33128>"
            ]
          },
          "metadata": {
            "tags": []
          }
        }
      ]
    },
    {
      "metadata": {
        "id": "QFxlNRRnkOOW",
        "colab_type": "text"
      },
      "cell_type": "markdown",
      "source": [
        "IQR berbeda beda, data tetap dipakai."
      ]
    },
    {
      "metadata": {
        "id": "IZL5QZD8khQq",
        "colab_type": "text"
      },
      "cell_type": "markdown",
      "source": [
        "### buka, tutup, durasi"
      ]
    },
    {
      "metadata": {
        "id": "gKqwYrexknIM",
        "colab_type": "code",
        "colab": {
          "base_uri": "https://localhost:8080/",
          "height": 372
        },
        "outputId": "2871a955-6a27-4f3b-c444-70e04ce61b22"
      },
      "cell_type": "code",
      "source": [
        "# buka\n",
        "var = 'buka'\n",
        "data = pd.concat([data_train[target], data_train[var]], axis=1)\n",
        "data.plot.scatter(x=var, y=target, ylim=(0,45000000));"
      ],
      "execution_count": 18,
      "outputs": [
        {
          "output_type": "display_data",
          "data": {
            "image/png": "[encoded data removed]",
            "text/plain": [
              "<matplotlib.figure.Figure at 0x7fb9137bbcc0>"
            ]
          },
          "metadata": {
            "tags": []
          }
        }
      ]
    },
    {
      "metadata": {
        "id": "bZVTADiVo-Dg",
        "colab_type": "code",
        "colab": {
          "base_uri": "https://localhost:8080/",
          "height": 365
        },
        "outputId": "dd6d7c2c-cb6c-45b4-e5c7-58c7a454fc9c"
      },
      "cell_type": "code",
      "source": [
        "# buka\n",
        "var = 'buka'\n",
        "data = pd.concat([data_train[target], data_train[var]], axis=1)\n",
        "data.plot.scatter(x=var, y=target, ylim=(0,5000000));"
      ],
      "execution_count": 19,
      "outputs": [
        {
          "output_type": "display_data",
          "data": {
            "image/png": "[encoded data removed]",
            "text/plain": [
              "<matplotlib.figure.Figure at 0x7fb9137421d0>"
            ]
          },
          "metadata": {
            "tags": []
          }
        }
      ]
    },
    {
      "metadata": {
        "id": "uUpDqpeXlWt-",
        "colab_type": "text"
      },
      "cell_type": "markdown",
      "source": [
        "Tempat usaha yang memiliki waktu buka pada menit 300 - 500 memiliki rentang omset yang lebih tinggi."
      ]
    },
    {
      "metadata": {
        "id": "QQMrXzeyoznS",
        "colab_type": "code",
        "colab": {
          "base_uri": "https://localhost:8080/",
          "height": 372
        },
        "outputId": "2d3515a4-bef6-4cd2-83a8-995d655af769"
      },
      "cell_type": "code",
      "source": [
        "# tutup\n",
        "var = 'tutup'\n",
        "data = pd.concat([data_train[target], data_train[var]], axis=1)\n",
        "data.plot.scatter(x=var, y=target, ylim=(0,45000000));"
      ],
      "execution_count": 20,
      "outputs": [
        {
          "output_type": "display_data",
          "data": {
            "image/png": "[encoded data removed]",
            "text/plain": [
              "<matplotlib.figure.Figure at 0x7fb913875898>"
            ]
          },
          "metadata": {
            "tags": []
          }
        }
      ]
    },
    {
      "metadata": {
        "id": "iLmAimrIpFKG",
        "colab_type": "code",
        "colab": {
          "base_uri": "https://localhost:8080/",
          "height": 365
        },
        "outputId": "174b635c-eb13-43fb-f732-419d0edc1253"
      },
      "cell_type": "code",
      "source": [
        "# tutup\n",
        "var = 'tutup'\n",
        "data = pd.concat([data_train[target], data_train[var]], axis=1)\n",
        "data.plot.scatter(x=var, y=target, ylim=(0,5000000));"
      ],
      "execution_count": 21,
      "outputs": [
        {
          "output_type": "display_data",
          "data": {
            "image/png": "[encoded data removed]",
            "text/plain": [
              "<matplotlib.figure.Figure at 0x7fb9138dccc0>"
            ]
          },
          "metadata": {
            "tags": []
          }
        }
      ]
    },
    {
      "metadata": {
        "id": "RuhN0SjBpVDO",
        "colab_type": "text"
      },
      "cell_type": "markdown",
      "source": [
        "Tempat usaha yang memiliki waktu tutup pada menit 300 - 500 memiliki rentang omset yang lebih tinggi."
      ]
    },
    {
      "metadata": {
        "id": "FugRhkVXpkYo",
        "colab_type": "code",
        "colab": {
          "base_uri": "https://localhost:8080/",
          "height": 372
        },
        "outputId": "331fdbdd-7e35-462a-8729-95745a8a7c4d"
      },
      "cell_type": "code",
      "source": [
        "# durasi\n",
        "var = 'durasi'\n",
        "data = pd.concat([data_train[target], data_train[var]], axis=1)\n",
        "data.plot.scatter(x=var, y=target, ylim=(0,45000000));"
      ],
      "execution_count": 22,
      "outputs": [
        {
          "output_type": "display_data",
          "data": {
            "image/png": "[encoded data removed]",
            "text/plain": [
              "<matplotlib.figure.Figure at 0x7fb9137ea5c0>"
            ]
          },
          "metadata": {
            "tags": []
          }
        }
      ]
    },
    {
      "metadata": {
        "id": "rhUojllzqFak",
        "colab_type": "text"
      },
      "cell_type": "markdown",
      "source": [
        "Ada data minus, berarti ada usaha yang buka malam tutup pagi.\n",
        "\n",
        "Ubah menjadi durasi sesungguhnya."
      ]
    },
    {
      "metadata": {
        "id": "v93z9f6CqV2q",
        "colab_type": "code",
        "colab": {}
      },
      "cell_type": "code",
      "source": [
        "data_train.loc[(data_train['durasi'] < 0), 'durasi'] += (24*60)"
      ],
      "execution_count": 0,
      "outputs": []
    },
    {
      "metadata": {
        "id": "ImNeRAi2BO1y",
        "colab_type": "code",
        "colab": {}
      },
      "cell_type": "code",
      "source": [
        "data_test.loc[(data_test['durasi'] < 0), 'durasi'] += (24*60)"
      ],
      "execution_count": 0,
      "outputs": []
    },
    {
      "metadata": {
        "id": "4mFlKJuQr2mw",
        "colab_type": "code",
        "colab": {
          "base_uri": "https://localhost:8080/",
          "height": 372
        },
        "outputId": "6467c052-ba6d-44bc-85ca-552d8376e32d"
      },
      "cell_type": "code",
      "source": [
        "# durasi\n",
        "var = 'durasi'\n",
        "data = pd.concat([data_train[target], data_train[var]], axis=1)\n",
        "data.plot.scatter(x=var, y=target, ylim=(0,45000000));"
      ],
      "execution_count": 25,
      "outputs": [
        {
          "output_type": "display_data",
          "data": {
            "image/png": "[encoded data removed]",
            "text/plain": [
              "<matplotlib.figure.Figure at 0x7fb917251cf8>"
            ]
          },
          "metadata": {
            "tags": []
          }
        }
      ]
    },
    {
      "metadata": {
        "id": "HwZQNM1OtSsE",
        "colab_type": "text"
      },
      "cell_type": "markdown",
      "source": [
        "Tempat usaha yang memiliki durasi pada menit 300 - 600 memiliki rentang omset yang lebih tinggi."
      ]
    },
    {
      "metadata": {
        "id": "TLSyFGPk32Aw",
        "colab_type": "text"
      },
      "cell_type": "markdown",
      "source": [
        "### Jumlah tenaga kerja (b4k10, b4k11, b4k12)\n",
        "\n",
        "---\n",
        "\n",
        "Jumlah tenaga kerja laki-laki dan perempuan dapat disederhanakan menjadi rasio jumlah, karena yang dipengaruhi oleh tipe pekerjaan bukanlah banyaknya jumlah pegawai masing-masing jenis kelamin, tapi rasio jenis kelamin. Namun jumlah pegawai total tetap dipakai untuk membedakan ukuran usaha, misal 5-6 orang untuk toko sedang, dan ratusan orang untuk pabrik.\n",
        "\n",
        "0 untuk perempuan dan 1 untuk laki-laki."
      ]
    },
    {
      "metadata": {
        "id": "HuzilXKa5xwG",
        "colab_type": "code",
        "colab": {}
      },
      "cell_type": "code",
      "source": [
        "data_train['rasio_gender'] = data_train['b4k10'] / (data_train['b4k12'])\n",
        "data_train = data_train.drop(['b4k10', 'b4k11'], axis = 1)"
      ],
      "execution_count": 0,
      "outputs": []
    },
    {
      "metadata": {
        "id": "gGGD62zA6dWs",
        "colab_type": "code",
        "colab": {}
      },
      "cell_type": "code",
      "source": [
        "data_test['rasio_gender'] = data_test['b4k10'] / (data_test['b4k12'])\n",
        "data_test = data_test.drop(['b4k10', 'b4k11'], axis = 1)"
      ],
      "execution_count": 0,
      "outputs": []
    },
    {
      "metadata": {
        "id": "DaIYXktQ6ocE",
        "colab_type": "code",
        "colab": {
          "base_uri": "https://localhost:8080/",
          "height": 372
        },
        "outputId": "e81b2008-03b5-4fe5-e090-c3277275164a"
      },
      "cell_type": "code",
      "source": [
        "# rasio_gender\n",
        "var = 'rasio_gender'\n",
        "data = pd.concat([data_train[target], data_train[var]], axis=1)\n",
        "data.plot.scatter(x=var, y=target, ylim=(0,45000000));"
      ],
      "execution_count": 28,
      "outputs": [
        {
          "output_type": "display_data",
          "data": {
            "image/png": "[encoded data removed]",
            "text/plain": [
              "<matplotlib.figure.Figure at 0x7fb915bcc518>"
            ]
          },
          "metadata": {
            "tags": []
          }
        }
      ]
    },
    {
      "metadata": {
        "id": "qwPqjPoP662k",
        "colab_type": "text"
      },
      "cell_type": "markdown",
      "source": [
        "Terlihat bahwa sebagian besar usaha memiliki rasio 0, 1, dan 0.5."
      ]
    },
    {
      "metadata": {
        "id": "PJkqgGfb90E0",
        "colab_type": "code",
        "colab": {
          "base_uri": "https://localhost:8080/",
          "height": 372
        },
        "outputId": "520027ea-649f-48e0-dcae-b17d921f50f7"
      },
      "cell_type": "code",
      "source": [
        "# total pegawai\n",
        "var = 'b4k12'\n",
        "data = pd.concat([data_train[target], data_train[var]], axis=1)\n",
        "data.plot.scatter(x=var, y=target, ylim=(0,45000000));"
      ],
      "execution_count": 29,
      "outputs": [
        {
          "output_type": "display_data",
          "data": {
            "image/png": "[encoded data removed]",
            "text/plain": [
              "<matplotlib.figure.Figure at 0x7fb9137590f0>"
            ]
          },
          "metadata": {
            "tags": []
          }
        }
      ]
    },
    {
      "metadata": {
        "id": "w19aJAqY-qvo",
        "colab_type": "text"
      },
      "cell_type": "markdown",
      "source": [
        "### b4k13 (Aset tahun lalu)"
      ]
    },
    {
      "metadata": {
        "id": "pHnoNJJS-zuE",
        "colab_type": "code",
        "colab": {
          "base_uri": "https://localhost:8080/",
          "height": 372
        },
        "outputId": "e8d3424f-b3ef-45fe-ebd8-a4f015aac03a"
      },
      "cell_type": "code",
      "source": [
        "# Aset tahun lalu\n",
        "var = 'b4k13'\n",
        "data = pd.concat([data_train[target], data_train[var]], axis=1)\n",
        "data.plot.scatter(x=var, y=target, ylim=(0,45000000));"
      ],
      "execution_count": 30,
      "outputs": [
        {
          "output_type": "display_data",
          "data": {
            "image/png": "[encoded data removed]",
            "text/plain": [
              "<matplotlib.figure.Figure at 0x7fb913af8c88>"
            ]
          },
          "metadata": {
            "tags": []
          }
        }
      ]
    },
    {
      "metadata": {
        "id": "AYiS0QsJ-5Hi",
        "colab_type": "code",
        "colab": {
          "base_uri": "https://localhost:8080/",
          "height": 372
        },
        "outputId": "57e5dd1d-35b0-4923-ee65-03a4ecbf98f1"
      },
      "cell_type": "code",
      "source": [
        "# Aset tahun lalu\n",
        "var = 'b4k13'\n",
        "data = pd.concat([data_train[target], data_train[var]], axis=1)\n",
        "data.plot.scatter(x=var, y=target, ylim=(0,20000000));"
      ],
      "execution_count": 31,
      "outputs": [
        {
          "output_type": "display_data",
          "data": {
            "image/png": "[encoded data removed]",
            "text/plain": [
              "<matplotlib.figure.Figure at 0x7fb9139e7630>"
            ]
          },
          "metadata": {
            "tags": []
          }
        }
      ]
    },
    {
      "metadata": {
        "id": "rFlsOJ7KCftA",
        "colab_type": "text"
      },
      "cell_type": "markdown",
      "source": [
        "## Outlier\n",
        "\n",
        "---\n",
        "\n",
        "Selama kita melakukan eksplorasi, ada 1 data yang sangat mencolok, yaitu data dengan nilai target Rp 45.000.000,00, yang mempunyai pegawai 2 dan rasio 0 (perempuan semua). Mari kita lihat lebih lengkap data tersebut."
      ]
    },
    {
      "metadata": {
        "id": "krbmPgmwDAXe",
        "colab_type": "code",
        "colab": {
          "base_uri": "https://localhost:8080/",
          "height": 81
        },
        "outputId": "851cb38c-e0ce-4ba4-9624-2686a9c87b10"
      },
      "cell_type": "code",
      "source": [
        "data_train[data_train[target] == 45000000]"
      ],
      "execution_count": 32,
      "outputs": [
        {
          "output_type": "execute_result",
          "data": {
            "text/html": [
              "<div>\n",
              "<style scoped>\n",
              "    .dataframe tbody tr th:only-of-type {\n",
              "        vertical-align: middle;\n",
              "    }\n",
              "\n",
              "    .dataframe tbody tr th {\n",
              "        vertical-align: top;\n",
              "    }\n",
              "\n",
              "    .dataframe thead th {\n",
              "        text-align: right;\n",
              "    }\n",
              "</style>\n",
              "<table border=\"1\" class=\"dataframe\">\n",
              "  <thead>\n",
              "    <tr style=\"text-align: right;\">\n",
              "      <th></th>\n",
              "      <th>iduniq</th>\n",
              "      <th>b4k6</th>\n",
              "      <th>b4k71</th>\n",
              "      <th>b4k12</th>\n",
              "      <th>b4k13</th>\n",
              "      <th>b4k16</th>\n",
              "      <th>b4k17</th>\n",
              "      <th>buka</th>\n",
              "      <th>tutup</th>\n",
              "      <th>durasi</th>\n",
              "      <th>rasio_gender</th>\n",
              "    </tr>\n",
              "  </thead>\n",
              "  <tbody>\n",
              "    <tr>\n",
              "      <th>2855</th>\n",
              "      <td>1118</td>\n",
              "      <td>1</td>\n",
              "      <td>G</td>\n",
              "      <td>2</td>\n",
              "      <td>6000000</td>\n",
              "      <td>45000000</td>\n",
              "      <td>12</td>\n",
              "      <td>360</td>\n",
              "      <td>1020</td>\n",
              "      <td>660</td>\n",
              "      <td>0.000</td>\n",
              "    </tr>\n",
              "  </tbody>\n",
              "</table>\n",
              "</div>"
            ],
            "text/plain": [
              "      iduniq  b4k6 b4k71  b4k12    b4k13     b4k16  b4k17  buka  tutup  \\\n",
              "2855    1118     1     G      2  6000000  45000000     12   360   1020   \n",
              "\n",
              "      durasi  rasio_gender  \n",
              "2855     660         0.000  "
            ]
          },
          "metadata": {
            "tags": []
          },
          "execution_count": 32
        }
      ]
    },
    {
      "metadata": {
        "id": "XVPmXMI-DXU0",
        "colab_type": "text"
      },
      "cell_type": "markdown",
      "source": [
        "Data ini jelas merupakan data outlier (Aset dan omset tahun lalu sangat jauh, fitur-fitur lain sama seperti kebanyakan data), sehingga kita dapat melakukan drop terhadap fitur ini."
      ]
    },
    {
      "metadata": {
        "id": "33eKQNUwGh2G",
        "colab_type": "code",
        "colab": {}
      },
      "cell_type": "code",
      "source": [
        "data_train = data_train[data_train[target] < 45000000]"
      ],
      "execution_count": 0,
      "outputs": []
    },
    {
      "metadata": {
        "id": "Wcn9WbkRH3fG",
        "colab_type": "text"
      },
      "cell_type": "markdown",
      "source": [
        "## Dummies\n",
        "\n",
        "---\n",
        "\n",
        "b4k6 dan b4k71"
      ]
    },
    {
      "metadata": {
        "id": "qy9k69WvJ6NG",
        "colab_type": "code",
        "colab": {}
      },
      "cell_type": "code",
      "source": [
        "data_train = pd.get_dummies(data_train, columns = ['b4k6', 'b4k71'])\n",
        "data_test = pd.get_dummies(data_test, columns = ['b4k6', 'b4k71'])"
      ],
      "execution_count": 0,
      "outputs": []
    },
    {
      "metadata": {
        "id": "jsC7bx28Kr5Y",
        "colab_type": "code",
        "colab": {}
      },
      "cell_type": "code",
      "source": [
        "# Menyamakan dummy antara data train dan test\n",
        "# Menyalin kolom di data train yang belum ada di data test, dan menghapus kolom di data test yang tidak ada di data train\n",
        "\n",
        "# Get missing columns in the training test\n",
        "missing_cols = set( data_train.columns ) - set( data_test.columns )\n",
        "# Add a missing column in test set with default value equal to 0\n",
        "for c in missing_cols:\n",
        "    data_test[c] = 0\n",
        "# Ensure the order of column in the test set is in the same order than in train set\n",
        "data_test = data_test[data_train.columns]\n",
        "# Delete target column in data test\n",
        "data_test = data_test.drop([target], axis = 1)"
      ],
      "execution_count": 0,
      "outputs": []
    },
    {
      "metadata": {
        "id": "G10rN_HTN980",
        "colab_type": "text"
      },
      "cell_type": "markdown",
      "source": [
        "## Drop ID unik"
      ]
    },
    {
      "metadata": {
        "id": "YX3Zu5QbOBs6",
        "colab_type": "code",
        "colab": {}
      },
      "cell_type": "code",
      "source": [
        "data_train = data_train.drop('iduniq', axis = 1)\n",
        "data_test = data_test.drop('iduniq', axis = 1)"
      ],
      "execution_count": 0,
      "outputs": []
    },
    {
      "metadata": {
        "id": "QwqD_1jHACCc",
        "colab_type": "text"
      },
      "cell_type": "markdown",
      "source": [
        "##Pemisahan berdasarkan jumlah orang"
      ]
    },
    {
      "metadata": {
        "id": "XqY4Lq7-ANLK",
        "colab_type": "code",
        "colab": {
          "base_uri": "https://localhost:8080/",
          "height": 36
        },
        "outputId": "2b4c5af1-ab84-44be-82d2-b8cb17453a84"
      },
      "cell_type": "code",
      "source": [
        "len(data_train[data_train['b4k12'] == 1]) / (1.0 * len(data_train))"
      ],
      "execution_count": 37,
      "outputs": [
        {
          "output_type": "execute_result",
          "data": {
            "text/plain": [
              "0.92152466367713"
            ]
          },
          "metadata": {
            "tags": []
          },
          "execution_count": 37
        }
      ]
    },
    {
      "metadata": {
        "id": "JKSjJgiIBkde",
        "colab_type": "code",
        "colab": {
          "base_uri": "https://localhost:8080/",
          "height": 36
        },
        "outputId": "18f21ebf-1d9a-4635-ae33-a6f87e1cdf70"
      },
      "cell_type": "code",
      "source": [
        "len(data_test[data_test['b4k12'] == 1]) / (1.0 * len(data_test))"
      ],
      "execution_count": 38,
      "outputs": [
        {
          "output_type": "execute_result",
          "data": {
            "text/plain": [
              "0.9365994236311239"
            ]
          },
          "metadata": {
            "tags": []
          },
          "execution_count": 38
        }
      ]
    },
    {
      "metadata": {
        "id": "EjbYcYbvAseG",
        "colab_type": "text"
      },
      "cell_type": "markdown",
      "source": [
        "Jumlah usaha yang hanya terdapat 1 orang sangat banyak (~92%) sehingga kita perlu memisahkan data train berdasarkan jumlah orang"
      ]
    },
    {
      "metadata": {
        "id": "6SCh48xGBpMe",
        "colab_type": "code",
        "colab": {}
      },
      "cell_type": "code",
      "source": [
        "data_train_tunggal = data_train[data_train.b4k12 == 1]\n",
        "data_train_jamak = data_train[data_train.b4k12 > 1]"
      ],
      "execution_count": 0,
      "outputs": []
    },
    {
      "metadata": {
        "id": "JZB_nHtpDKnE",
        "colab_type": "text"
      },
      "cell_type": "markdown",
      "source": [
        "## Heatmap"
      ]
    },
    {
      "metadata": {
        "id": "ShzIJN8ZDO6S",
        "colab_type": "text"
      },
      "cell_type": "markdown",
      "source": [
        "### Tunggal"
      ]
    },
    {
      "metadata": {
        "id": "oJJbAv85DRza",
        "colab_type": "code",
        "colab": {
          "base_uri": "https://localhost:8080/",
          "height": 585
        },
        "outputId": "3154db3a-905d-4fb3-90d5-202fb0172e1c"
      },
      "cell_type": "code",
      "source": [
        "corrmat = data_train_tunggal.corr()\n",
        "f, ax = plt.subplots(figsize=(12, 9))\n",
        "sns.heatmap(corrmat, vmax=.8, square=True);"
      ],
      "execution_count": 40,
      "outputs": [
        {
          "output_type": "display_data",
          "data": {
            "image/png": "[encoded data removed]",
            "text/plain": [
              "<matplotlib.figure.Figure at 0x7fb913a61668>"
            ]
          },
          "metadata": {
            "tags": []
          }
        }
      ]
    },
    {
      "metadata": {
        "id": "Or3aX5TcDYmM",
        "colab_type": "text"
      },
      "cell_type": "markdown",
      "source": [
        "### Jamak"
      ]
    },
    {
      "metadata": {
        "id": "78Pmhu0FDanY",
        "colab_type": "code",
        "colab": {
          "base_uri": "https://localhost:8080/",
          "height": 585
        },
        "outputId": "cd500961-362f-4542-b4ef-0e7b9d730221"
      },
      "cell_type": "code",
      "source": [
        "corrmat = data_train_jamak.corr()\n",
        "f, ax = plt.subplots(figsize=(12, 9))\n",
        "sns.heatmap(corrmat, vmax=.8, square=True);"
      ],
      "execution_count": 41,
      "outputs": [
        {
          "output_type": "display_data",
          "data": {
            "image/png": "[encoded data removed]",
            "text/plain": [
              "<matplotlib.figure.Figure at 0x7fb91361ab38>"
            ]
          },
          "metadata": {
            "tags": []
          }
        }
      ]
    },
    {
      "metadata": {
        "id": "a_HAA9lxGVt0",
        "colab_type": "text"
      },
      "cell_type": "markdown",
      "source": [
        "### Semua"
      ]
    },
    {
      "metadata": {
        "id": "PkFS3B8dEo3A",
        "colab_type": "code",
        "colab": {
          "base_uri": "https://localhost:8080/",
          "height": 585
        },
        "outputId": "dd21a26d-e657-4ce6-f9c0-e3043ffae6d6"
      },
      "cell_type": "code",
      "source": [
        "corrmat = data_train.corr()\n",
        "f, ax = plt.subplots(figsize=(12, 9))\n",
        "sns.heatmap(corrmat, vmax=.8, square=True);"
      ],
      "execution_count": 42,
      "outputs": [
        {
          "output_type": "display_data",
          "data": {
            "image/png": "[encoded data removed]",
            "text/plain": [
              "<matplotlib.figure.Figure at 0x7fb91357cba8>"
            ]
          },
          "metadata": {
            "tags": []
          }
        }
      ]
    },
    {
      "metadata": {
        "id": "XZikGZA0CIwM",
        "colab_type": "text"
      },
      "cell_type": "markdown",
      "source": [
        "## Pemilihan model"
      ]
    },
    {
      "metadata": {
        "id": "SRDwFyOcGu8U",
        "colab_type": "text"
      },
      "cell_type": "markdown",
      "source": [
        "### Semua"
      ]
    },
    {
      "metadata": {
        "id": "TcVoW5uSH62s",
        "colab_type": "code",
        "colab": {}
      },
      "cell_type": "code",
      "source": [
        "train_x = data_train.drop('b4k16', axis = 1)\n",
        "train_y = data_train[target]"
      ],
      "execution_count": 0,
      "outputs": []
    },
    {
      "metadata": {
        "id": "UAXE6pncIML-",
        "colab_type": "code",
        "colab": {}
      },
      "cell_type": "code",
      "source": [
        "#bikin kategori baru\n",
        "train_x['is_one'] = 0\n",
        "train_x.loc[train_x['b4k12'] == 1,'is_one'] = 1"
      ],
      "execution_count": 0,
      "outputs": []
    },
    {
      "metadata": {
        "id": "zpgtAgq7I81c",
        "colab_type": "code",
        "colab": {
          "base_uri": "https://localhost:8080/",
          "height": 135
        },
        "outputId": "47807f94-c83a-400e-b190-30b6450e01b1"
      },
      "cell_type": "code",
      "source": [
        "# MLP\n",
        "from sklearn.neural_network import MLPRegressor as mlp\n",
        "mdl = mlp()\n",
        "mdl.fit(train_x, train_y)"
      ],
      "execution_count": 45,
      "outputs": [
        {
          "output_type": "execute_result",
          "data": {
            "text/plain": [
              "MLPRegressor(activation='relu', alpha=0.0001, batch_size='auto', beta_1=0.9,\n",
              "       beta_2=0.999, early_stopping=False, epsilon=1e-08,\n",
              "       hidden_layer_sizes=(100,), learning_rate='constant',\n",
              "       learning_rate_init=0.001, max_iter=200, momentum=0.9,\n",
              "       nesterovs_momentum=True, power_t=0.5, random_state=None,\n",
              "       shuffle=True, solver='adam', tol=0.0001, validation_fraction=0.1,\n",
              "       verbose=False, warm_start=False)"
            ]
          },
          "metadata": {
            "tags": []
          },
          "execution_count": 45
        }
      ]
    },
    {
      "metadata": {
        "id": "L5A5iGIMKBI-",
        "colab_type": "code",
        "colab": {
          "base_uri": "https://localhost:8080/",
          "height": 195
        },
        "outputId": "83080648-6924-444e-d04e-9d9f691948f5"
      },
      "cell_type": "code",
      "source": [
        "data_test.head()"
      ],
      "execution_count": 46,
      "outputs": [
        {
          "output_type": "execute_result",
          "data": {
            "text/html": [
              "<div>\n",
              "<style scoped>\n",
              "    .dataframe tbody tr th:only-of-type {\n",
              "        vertical-align: middle;\n",
              "    }\n",
              "\n",
              "    .dataframe tbody tr th {\n",
              "        vertical-align: top;\n",
              "    }\n",
              "\n",
              "    .dataframe thead th {\n",
              "        text-align: right;\n",
              "    }\n",
              "</style>\n",
              "<table border=\"1\" class=\"dataframe\">\n",
              "  <thead>\n",
              "    <tr style=\"text-align: right;\">\n",
              "      <th></th>\n",
              "      <th>b4k12</th>\n",
              "      <th>b4k13</th>\n",
              "      <th>b4k17</th>\n",
              "      <th>buka</th>\n",
              "      <th>tutup</th>\n",
              "      <th>durasi</th>\n",
              "      <th>rasio_gender</th>\n",
              "      <th>b4k6_1</th>\n",
              "      <th>b4k6_2</th>\n",
              "      <th>b4k6_3</th>\n",
              "      <th>b4k6_4</th>\n",
              "      <th>b4k71_D</th>\n",
              "      <th>b4k71_G</th>\n",
              "      <th>b4k71_H</th>\n",
              "      <th>b4k71_I</th>\n",
              "      <th>b4k71_J</th>\n",
              "      <th>b4k71_K</th>\n",
              "      <th>b4k71_O</th>\n",
              "      <th>b4k71_P</th>\n",
              "    </tr>\n",
              "  </thead>\n",
              "  <tbody>\n",
              "    <tr>\n",
              "      <th>0</th>\n",
              "      <td>1</td>\n",
              "      <td>7200000</td>\n",
              "      <td>8</td>\n",
              "      <td>480.000</td>\n",
              "      <td>1020</td>\n",
              "      <td>540.000</td>\n",
              "      <td>1.000</td>\n",
              "      <td>0</td>\n",
              "      <td>0</td>\n",
              "      <td>1</td>\n",
              "      <td>0</td>\n",
              "      <td>0</td>\n",
              "      <td>1</td>\n",
              "      <td>0</td>\n",
              "      <td>0</td>\n",
              "      <td>0</td>\n",
              "      <td>0</td>\n",
              "      <td>0</td>\n",
              "      <td>0</td>\n",
              "    </tr>\n",
              "    <tr>\n",
              "      <th>1</th>\n",
              "      <td>1</td>\n",
              "      <td>3000000</td>\n",
              "      <td>6</td>\n",
              "      <td>420.000</td>\n",
              "      <td>1020</td>\n",
              "      <td>600.000</td>\n",
              "      <td>1.000</td>\n",
              "      <td>0</td>\n",
              "      <td>0</td>\n",
              "      <td>1</td>\n",
              "      <td>0</td>\n",
              "      <td>0</td>\n",
              "      <td>1</td>\n",
              "      <td>0</td>\n",
              "      <td>0</td>\n",
              "      <td>0</td>\n",
              "      <td>0</td>\n",
              "      <td>0</td>\n",
              "      <td>0</td>\n",
              "    </tr>\n",
              "    <tr>\n",
              "      <th>2</th>\n",
              "      <td>1</td>\n",
              "      <td>7500000</td>\n",
              "      <td>10</td>\n",
              "      <td>780.000</td>\n",
              "      <td>1020</td>\n",
              "      <td>240.000</td>\n",
              "      <td>1.000</td>\n",
              "      <td>0</td>\n",
              "      <td>0</td>\n",
              "      <td>1</td>\n",
              "      <td>0</td>\n",
              "      <td>0</td>\n",
              "      <td>1</td>\n",
              "      <td>0</td>\n",
              "      <td>0</td>\n",
              "      <td>0</td>\n",
              "      <td>0</td>\n",
              "      <td>0</td>\n",
              "      <td>0</td>\n",
              "    </tr>\n",
              "    <tr>\n",
              "      <th>3</th>\n",
              "      <td>1</td>\n",
              "      <td>7200000</td>\n",
              "      <td>6</td>\n",
              "      <td>960.000</td>\n",
              "      <td>1380</td>\n",
              "      <td>420.000</td>\n",
              "      <td>0.000</td>\n",
              "      <td>1</td>\n",
              "      <td>0</td>\n",
              "      <td>0</td>\n",
              "      <td>0</td>\n",
              "      <td>0</td>\n",
              "      <td>0</td>\n",
              "      <td>1</td>\n",
              "      <td>0</td>\n",
              "      <td>0</td>\n",
              "      <td>0</td>\n",
              "      <td>0</td>\n",
              "      <td>0</td>\n",
              "    </tr>\n",
              "    <tr>\n",
              "      <th>4</th>\n",
              "      <td>1</td>\n",
              "      <td>9000000</td>\n",
              "      <td>6</td>\n",
              "      <td>1020.000</td>\n",
              "      <td>1320</td>\n",
              "      <td>300.000</td>\n",
              "      <td>0.000</td>\n",
              "      <td>1</td>\n",
              "      <td>0</td>\n",
              "      <td>0</td>\n",
              "      <td>0</td>\n",
              "      <td>0</td>\n",
              "      <td>0</td>\n",
              "      <td>1</td>\n",
              "      <td>0</td>\n",
              "      <td>0</td>\n",
              "      <td>0</td>\n",
              "      <td>0</td>\n",
              "      <td>0</td>\n",
              "    </tr>\n",
              "  </tbody>\n",
              "</table>\n",
              "</div>"
            ],
            "text/plain": [
              "   b4k12    b4k13  b4k17     buka  tutup  durasi  rasio_gender  b4k6_1  \\\n",
              "0      1  7200000      8  480.000   1020 540.000         1.000       0   \n",
              "1      1  3000000      6  420.000   1020 600.000         1.000       0   \n",
              "2      1  7500000     10  780.000   1020 240.000         1.000       0   \n",
              "3      1  7200000      6  960.000   1380 420.000         0.000       1   \n",
              "4      1  9000000      6 1020.000   1320 300.000         0.000       1   \n",
              "\n",
              "   b4k6_2  b4k6_3  b4k6_4  b4k71_D  b4k71_G  b4k71_H  b4k71_I  b4k71_J  \\\n",
              "0       0       1       0        0        1        0        0        0   \n",
              "1       0       1       0        0        1        0        0        0   \n",
              "2       0       1       0        0        1        0        0        0   \n",
              "3       0       0       0        0        0        1        0        0   \n",
              "4       0       0       0        0        0        1        0        0   \n",
              "\n",
              "   b4k71_K  b4k71_O  b4k71_P  \n",
              "0        0        0        0  \n",
              "1        0        0        0  \n",
              "2        0        0        0  \n",
              "3        0        0        0  \n",
              "4        0        0        0  "
            ]
          },
          "metadata": {
            "tags": []
          },
          "execution_count": 46
        }
      ]
    },
    {
      "metadata": {
        "id": "dt_sKWnKKIQs",
        "colab_type": "code",
        "colab": {}
      },
      "cell_type": "code",
      "source": [
        "import copy\n",
        "test = copy.copy(data_test)\n",
        "test['is_one'] = 0\n",
        "test.loc[test['b4k12'] == 1,'is_one'] = 1"
      ],
      "execution_count": 0,
      "outputs": []
    },
    {
      "metadata": {
        "id": "XSLZW3ElK3FO",
        "colab_type": "code",
        "colab": {
          "base_uri": "https://localhost:8080/",
          "height": 10
        },
        "outputId": "1e0b092a-7945-405e-f3f6-b6b57877fa24"
      },
      "cell_type": "code",
      "source": [
        "test.head()"
      ],
      "execution_count": 48,
      "outputs": [
        {
          "output_type": "execute_result",
          "data": {
            "text/html": [
              "<div>\n",
              "<style scoped>\n",
              "    .dataframe tbody tr th:only-of-type {\n",
              "        vertical-align: middle;\n",
              "    }\n",
              "\n",
              "    .dataframe tbody tr th {\n",
              "        vertical-align: top;\n",
              "    }\n",
              "\n",
              "    .dataframe thead th {\n",
              "        text-align: right;\n",
              "    }\n",
              "</style>\n",
              "<table border=\"1\" class=\"dataframe\">\n",
              "  <thead>\n",
              "    <tr style=\"text-align: right;\">\n",
              "      <th></th>\n",
              "      <th>b4k12</th>\n",
              "      <th>b4k13</th>\n",
              "      <th>b4k17</th>\n",
              "      <th>buka</th>\n",
              "      <th>tutup</th>\n",
              "      <th>durasi</th>\n",
              "      <th>rasio_gender</th>\n",
              "      <th>b4k6_1</th>\n",
              "      <th>b4k6_2</th>\n",
              "      <th>b4k6_3</th>\n",
              "      <th>b4k6_4</th>\n",
              "      <th>b4k71_D</th>\n",
              "      <th>b4k71_G</th>\n",
              "      <th>b4k71_H</th>\n",
              "      <th>b4k71_I</th>\n",
              "      <th>b4k71_J</th>\n",
              "      <th>b4k71_K</th>\n",
              "      <th>b4k71_O</th>\n",
              "      <th>b4k71_P</th>\n",
              "      <th>is_one</th>\n",
              "    </tr>\n",
              "  </thead>\n",
              "  <tbody>\n",
              "    <tr>\n",
              "      <th>0</th>\n",
              "      <td>1</td>\n",
              "      <td>7200000</td>\n",
              "      <td>8</td>\n",
              "      <td>480.000</td>\n",
              "      <td>1020</td>\n",
              "      <td>540.000</td>\n",
              "      <td>1.000</td>\n",
              "      <td>0</td>\n",
              "      <td>0</td>\n",
              "      <td>1</td>\n",
              "      <td>0</td>\n",
              "      <td>0</td>\n",
              "      <td>1</td>\n",
              "      <td>0</td>\n",
              "      <td>0</td>\n",
              "      <td>0</td>\n",
              "      <td>0</td>\n",
              "      <td>0</td>\n",
              "      <td>0</td>\n",
              "      <td>1</td>\n",
              "    </tr>\n",
              "    <tr>\n",
              "      <th>1</th>\n",
              "      <td>1</td>\n",
              "      <td>3000000</td>\n",
              "      <td>6</td>\n",
              "      <td>420.000</td>\n",
              "      <td>1020</td>\n",
              "      <td>600.000</td>\n",
              "      <td>1.000</td>\n",
              "      <td>0</td>\n",
              "      <td>0</td>\n",
              "      <td>1</td>\n",
              "      <td>0</td>\n",
              "      <td>0</td>\n",
              "      <td>1</td>\n",
              "      <td>0</td>\n",
              "      <td>0</td>\n",
              "      <td>0</td>\n",
              "      <td>0</td>\n",
              "      <td>0</td>\n",
              "      <td>0</td>\n",
              "      <td>1</td>\n",
              "    </tr>\n",
              "    <tr>\n",
              "      <th>2</th>\n",
              "      <td>1</td>\n",
              "      <td>7500000</td>\n",
              "      <td>10</td>\n",
              "      <td>780.000</td>\n",
              "      <td>1020</td>\n",
              "      <td>240.000</td>\n",
              "      <td>1.000</td>\n",
              "      <td>0</td>\n",
              "      <td>0</td>\n",
              "      <td>1</td>\n",
              "      <td>0</td>\n",
              "      <td>0</td>\n",
              "      <td>1</td>\n",
              "      <td>0</td>\n",
              "      <td>0</td>\n",
              "      <td>0</td>\n",
              "      <td>0</td>\n",
              "      <td>0</td>\n",
              "      <td>0</td>\n",
              "      <td>1</td>\n",
              "    </tr>\n",
              "    <tr>\n",
              "      <th>3</th>\n",
              "      <td>1</td>\n",
              "      <td>7200000</td>\n",
              "      <td>6</td>\n",
              "      <td>960.000</td>\n",
              "      <td>1380</td>\n",
              "      <td>420.000</td>\n",
              "      <td>0.000</td>\n",
              "      <td>1</td>\n",
              "      <td>0</td>\n",
              "      <td>0</td>\n",
              "      <td>0</td>\n",
              "      <td>0</td>\n",
              "      <td>0</td>\n",
              "      <td>1</td>\n",
              "      <td>0</td>\n",
              "      <td>0</td>\n",
              "      <td>0</td>\n",
              "      <td>0</td>\n",
              "      <td>0</td>\n",
              "      <td>1</td>\n",
              "    </tr>\n",
              "    <tr>\n",
              "      <th>4</th>\n",
              "      <td>1</td>\n",
              "      <td>9000000</td>\n",
              "      <td>6</td>\n",
              "      <td>1020.000</td>\n",
              "      <td>1320</td>\n",
              "      <td>300.000</td>\n",
              "      <td>0.000</td>\n",
              "      <td>1</td>\n",
              "      <td>0</td>\n",
              "      <td>0</td>\n",
              "      <td>0</td>\n",
              "      <td>0</td>\n",
              "      <td>0</td>\n",
              "      <td>1</td>\n",
              "      <td>0</td>\n",
              "      <td>0</td>\n",
              "      <td>0</td>\n",
              "      <td>0</td>\n",
              "      <td>0</td>\n",
              "      <td>1</td>\n",
              "    </tr>\n",
              "  </tbody>\n",
              "</table>\n",
              "</div>"
            ],
            "text/plain": [
              "   b4k12    b4k13  b4k17     buka  tutup  durasi  rasio_gender  b4k6_1  \\\n",
              "0      1  7200000      8  480.000   1020 540.000         1.000       0   \n",
              "1      1  3000000      6  420.000   1020 600.000         1.000       0   \n",
              "2      1  7500000     10  780.000   1020 240.000         1.000       0   \n",
              "3      1  7200000      6  960.000   1380 420.000         0.000       1   \n",
              "4      1  9000000      6 1020.000   1320 300.000         0.000       1   \n",
              "\n",
              "   b4k6_2  b4k6_3  b4k6_4  b4k71_D  b4k71_G  b4k71_H  b4k71_I  b4k71_J  \\\n",
              "0       0       1       0        0        1        0        0        0   \n",
              "1       0       1       0        0        1        0        0        0   \n",
              "2       0       1       0        0        1        0        0        0   \n",
              "3       0       0       0        0        0        1        0        0   \n",
              "4       0       0       0        0        0        1        0        0   \n",
              "\n",
              "   b4k71_K  b4k71_O  b4k71_P  is_one  \n",
              "0        0        0        0       1  \n",
              "1        0        0        0       1  \n",
              "2        0        0        0       1  \n",
              "3        0        0        0       1  \n",
              "4        0        0        0       1  "
            ]
          },
          "metadata": {
            "tags": []
          },
          "execution_count": 48
        }
      ]
    },
    {
      "metadata": {
        "id": "hEuMRezRKvOM",
        "colab_type": "code",
        "colab": {}
      },
      "cell_type": "code",
      "source": [
        "y = mdl.predict(test)"
      ],
      "execution_count": 0,
      "outputs": []
    },
    {
      "metadata": {
        "id": "tzqWuXObNL8E",
        "colab_type": "code",
        "colab": {
          "base_uri": "https://localhost:8080/",
          "height": 10
        },
        "outputId": "996459b1-66f0-4f07-d17a-8944bc484018"
      },
      "cell_type": "code",
      "source": [
        "submit = pd.DataFrame(y, columns = ['b4k16'])\n",
        "data_test = pd.read_csv('/content/data/test.csv')\n",
        "submission = pd.DataFrame({ 'iduniq': data_test['iduniq'], 'b4k16': submit['b4k16']\n",
        "                             })\n",
        "\n",
        "submission.head()"
      ],
      "execution_count": 50,
      "outputs": [
        {
          "output_type": "execute_result",
          "data": {
            "text/html": [
              "<div>\n",
              "<style scoped>\n",
              "    .dataframe tbody tr th:only-of-type {\n",
              "        vertical-align: middle;\n",
              "    }\n",
              "\n",
              "    .dataframe tbody tr th {\n",
              "        vertical-align: top;\n",
              "    }\n",
              "\n",
              "    .dataframe thead th {\n",
              "        text-align: right;\n",
              "    }\n",
              "</style>\n",
              "<table border=\"1\" class=\"dataframe\">\n",
              "  <thead>\n",
              "    <tr style=\"text-align: right;\">\n",
              "      <th></th>\n",
              "      <th>b4k16</th>\n",
              "      <th>iduniq</th>\n",
              "    </tr>\n",
              "  </thead>\n",
              "  <tbody>\n",
              "    <tr>\n",
              "      <th>0</th>\n",
              "      <td>763620.723</td>\n",
              "      <td>887</td>\n",
              "    </tr>\n",
              "    <tr>\n",
              "      <th>1</th>\n",
              "      <td>318792.025</td>\n",
              "      <td>3600</td>\n",
              "    </tr>\n",
              "    <tr>\n",
              "      <th>2</th>\n",
              "      <td>795448.426</td>\n",
              "      <td>1021</td>\n",
              "    </tr>\n",
              "    <tr>\n",
              "      <th>3</th>\n",
              "      <td>764052.066</td>\n",
              "      <td>1698</td>\n",
              "    </tr>\n",
              "    <tr>\n",
              "      <th>4</th>\n",
              "      <td>954640.699</td>\n",
              "      <td>1986</td>\n",
              "    </tr>\n",
              "  </tbody>\n",
              "</table>\n",
              "</div>"
            ],
            "text/plain": [
              "       b4k16  iduniq\n",
              "0 763620.723     887\n",
              "1 318792.025    3600\n",
              "2 795448.426    1021\n",
              "3 764052.066    1698\n",
              "4 954640.699    1986"
            ]
          },
          "metadata": {
            "tags": []
          },
          "execution_count": 50
        }
      ]
    },
    {
      "metadata": {
        "id": "jK5kzx8rOA7i",
        "colab_type": "code",
        "colab": {}
      },
      "cell_type": "code",
      "source": [
        "from google.colab import files\n",
        "\n",
        "submission.to_csv('yo.csv', index = False)\n",
        "files.download('yo.csv')"
      ],
      "execution_count": 0,
      "outputs": []
    },
    {
      "metadata": {
        "id": "KO1NUggqypa1",
        "colab_type": "text"
      },
      "cell_type": "markdown",
      "source": [
        " ## KEN"
      ]
    },
    {
      "metadata": {
        "id": "ijEqaBYU6e9A",
        "colab_type": "code",
        "colab": {}
      },
      "cell_type": "code",
      "source": [
        "from sklearn.linear_model import LinearRegression\n",
        "from sklearn import datasets, linear_model\n",
        "from sklearn.metrics import mean_squared_error, r2_score\n",
        "from sklearn.model_selection import cross_val_score\n",
        "from sklearn.model_selection import KFold\n",
        "from sklearn.metrics import accuracy_score\n",
        "from sklearn.ensemble import RandomForestRegressor\n",
        "from sklearn.linear_model import SGDRegressor\n",
        "\n",
        "from math import *"
      ],
      "execution_count": 0,
      "outputs": []
    },
    {
      "metadata": {
        "id": "VNOoULfTyu5-",
        "colab_type": "code",
        "colab": {
          "base_uri": "https://localhost:8080/",
          "height": 34
        },
        "outputId": "32a377ac-467e-4182-cd1c-436566f2b7d8"
      },
      "cell_type": "code",
      "source": [
        "train = data_train_tunggal.drop(target,axis=1)\n",
        "train_y = data_train_tunggal[target]\n",
        "\n",
        "seed=2018\n",
        "cv_scores=[]\n",
        "kfold = KFold(n_splits=10, random_state=seed)\n",
        "\n",
        "regr = LinearRegression(fit_intercept=True, normalize=True)\n",
        "#regr = RandomForestRegressor()\n",
        "\n",
        " \n",
        "# fit the model with training set\n",
        "scores = cross_val_score(regr, train, train_y, cv=kfold, scoring='neg_mean_squared_error')\n",
        "\n",
        "print (sqrt(-scores.mean()))"
      ],
      "execution_count": 53,
      "outputs": [
        {
          "output_type": "stream",
          "text": [
            "1686641.6934097447\n"
          ],
          "name": "stdout"
        }
      ]
    },
    {
      "metadata": {
        "id": "SjC7PWVGVCdF",
        "colab_type": "code",
        "colab": {}
      },
      "cell_type": "code",
      "source": [
        "train = data_train_jamak.drop(target,axis=1)\n",
        "train_y = data_train_jamak[target]\n",
        "\n",
        "seed=2018\n",
        "cv_scores=[]\n",
        "kfold = KFold(n_splits=10, random_state=seed)\n",
        "\n",
        "regr = LinearRegression(fit_intercept=True, normalize=True)\n",
        "#regr = RandomForestRegressor()\n",
        "\n",
        " \n",
        "# fit the model with training set\n",
        "scores = cross_val_score(regr, train, train_y, cv=kfold, scoring='neg_mean_squared_error')\n",
        "\n",
        "print (sqrt(-scores.mean()))"
      ],
      "execution_count": 0,
      "outputs": []
    },
    {
      "metadata": {
        "id": "PR7paPy06WZS",
        "colab_type": "code",
        "colab": {
          "base_uri": "https://localhost:8080/",
          "height": 34
        },
        "outputId": "12f93316-c720-4298-a20e-5142f18991c7"
      },
      "cell_type": "code",
      "source": [
        "regr = RandomForestRegressor()\n",
        "\n",
        " \n",
        "# fit the model with training set\n",
        "scores = cross_val_score(regr, train, train_y, cv=kfold, scoring='neg_mean_squared_error')\n",
        "\n",
        "print (sqrt(-scores.mean()))"
      ],
      "execution_count": 54,
      "outputs": [
        {
          "output_type": "stream",
          "text": [
            "2047841.7589717696\n"
          ],
          "name": "stdout"
        }
      ]
    },
    {
      "metadata": {
        "id": "hqyHwlJz69_v",
        "colab_type": "code",
        "colab": {
          "base_uri": "https://localhost:8080/",
          "height": 390
        },
        "outputId": "1ba0d4ac-e993-496f-d370-7c17f533402f"
      },
      "cell_type": "code",
      "source": [
        "from sklearn.linear_model import SGDRegressor\n",
        "\n",
        "regr = SGDRegressor()\n",
        "\n",
        " \n",
        "# fit the model with training set\n",
        "scores = cross_val_score(regr, train, train_y, cv=kfold, scoring='neg_mean_squared_error')\n",
        "\n",
        "print (sqrt(-scores.mean()))"
      ],
      "execution_count": 55,
      "outputs": [
        {
          "output_type": "stream",
          "text": [
            "5.1567275193540436e+22\n"
          ],
          "name": "stdout"
        },
        {
          "output_type": "stream",
          "text": [
            "/usr/local/lib/python3.6/dist-packages/sklearn/linear_model/stochastic_gradient.py:128: FutureWarning: max_iter and tol parameters have been added in <class 'sklearn.linear_model.stochastic_gradient.SGDRegressor'> in 0.19. If both are left unset, they default to max_iter=5 and tol=None. If tol is not None, max_iter defaults to max_iter=1000. From 0.21, default max_iter will be 1000, and default tol will be 1e-3.\n",
            "  \"and default tol will be 1e-3.\" % type(self), FutureWarning)\n",
            "/usr/local/lib/python3.6/dist-packages/sklearn/linear_model/stochastic_gradient.py:128: FutureWarning: max_iter and tol parameters have been added in <class 'sklearn.linear_model.stochastic_gradient.SGDRegressor'> in 0.19. If both are left unset, they default to max_iter=5 and tol=None. If tol is not None, max_iter defaults to max_iter=1000. From 0.21, default max_iter will be 1000, and default tol will be 1e-3.\n",
            "  \"and default tol will be 1e-3.\" % type(self), FutureWarning)\n",
            "/usr/local/lib/python3.6/dist-packages/sklearn/linear_model/stochastic_gradient.py:128: FutureWarning: max_iter and tol parameters have been added in <class 'sklearn.linear_model.stochastic_gradient.SGDRegressor'> in 0.19. If both are left unset, they default to max_iter=5 and tol=None. If tol is not None, max_iter defaults to max_iter=1000. From 0.21, default max_iter will be 1000, and default tol will be 1e-3.\n",
            "  \"and default tol will be 1e-3.\" % type(self), FutureWarning)\n",
            "/usr/local/lib/python3.6/dist-packages/sklearn/linear_model/stochastic_gradient.py:128: FutureWarning: max_iter and tol parameters have been added in <class 'sklearn.linear_model.stochastic_gradient.SGDRegressor'> in 0.19. If both are left unset, they default to max_iter=5 and tol=None. If tol is not None, max_iter defaults to max_iter=1000. From 0.21, default max_iter will be 1000, and default tol will be 1e-3.\n",
            "  \"and default tol will be 1e-3.\" % type(self), FutureWarning)\n",
            "/usr/local/lib/python3.6/dist-packages/sklearn/linear_model/stochastic_gradient.py:128: FutureWarning: max_iter and tol parameters have been added in <class 'sklearn.linear_model.stochastic_gradient.SGDRegressor'> in 0.19. If both are left unset, they default to max_iter=5 and tol=None. If tol is not None, max_iter defaults to max_iter=1000. From 0.21, default max_iter will be 1000, and default tol will be 1e-3.\n",
            "  \"and default tol will be 1e-3.\" % type(self), FutureWarning)\n",
            "/usr/local/lib/python3.6/dist-packages/sklearn/linear_model/stochastic_gradient.py:128: FutureWarning: max_iter and tol parameters have been added in <class 'sklearn.linear_model.stochastic_gradient.SGDRegressor'> in 0.19. If both are left unset, they default to max_iter=5 and tol=None. If tol is not None, max_iter defaults to max_iter=1000. From 0.21, default max_iter will be 1000, and default tol will be 1e-3.\n",
            "  \"and default tol will be 1e-3.\" % type(self), FutureWarning)\n",
            "/usr/local/lib/python3.6/dist-packages/sklearn/linear_model/stochastic_gradient.py:128: FutureWarning: max_iter and tol parameters have been added in <class 'sklearn.linear_model.stochastic_gradient.SGDRegressor'> in 0.19. If both are left unset, they default to max_iter=5 and tol=None. If tol is not None, max_iter defaults to max_iter=1000. From 0.21, default max_iter will be 1000, and default tol will be 1e-3.\n",
            "  \"and default tol will be 1e-3.\" % type(self), FutureWarning)\n",
            "/usr/local/lib/python3.6/dist-packages/sklearn/linear_model/stochastic_gradient.py:128: FutureWarning: max_iter and tol parameters have been added in <class 'sklearn.linear_model.stochastic_gradient.SGDRegressor'> in 0.19. If both are left unset, they default to max_iter=5 and tol=None. If tol is not None, max_iter defaults to max_iter=1000. From 0.21, default max_iter will be 1000, and default tol will be 1e-3.\n",
            "  \"and default tol will be 1e-3.\" % type(self), FutureWarning)\n",
            "/usr/local/lib/python3.6/dist-packages/sklearn/linear_model/stochastic_gradient.py:128: FutureWarning: max_iter and tol parameters have been added in <class 'sklearn.linear_model.stochastic_gradient.SGDRegressor'> in 0.19. If both are left unset, they default to max_iter=5 and tol=None. If tol is not None, max_iter defaults to max_iter=1000. From 0.21, default max_iter will be 1000, and default tol will be 1e-3.\n",
            "  \"and default tol will be 1e-3.\" % type(self), FutureWarning)\n",
            "/usr/local/lib/python3.6/dist-packages/sklearn/linear_model/stochastic_gradient.py:128: FutureWarning: max_iter and tol parameters have been added in <class 'sklearn.linear_model.stochastic_gradient.SGDRegressor'> in 0.19. If both are left unset, they default to max_iter=5 and tol=None. If tol is not None, max_iter defaults to max_iter=1000. From 0.21, default max_iter will be 1000, and default tol will be 1e-3.\n",
            "  \"and default tol will be 1e-3.\" % type(self), FutureWarning)\n"
          ],
          "name": "stderr"
        }
      ]
    },
    {
      "metadata": {
        "id": "zVLhNvEZ8YkC",
        "colab_type": "code",
        "colab": {
          "base_uri": "https://localhost:8080/",
          "height": 390
        },
        "outputId": "6c17a679-b15c-40bc-8139-b6f5007a2fe3"
      },
      "cell_type": "code",
      "source": [
        "from sklearn.linear_model import Lasso\n",
        "\n",
        "regr1 = Lasso()\n",
        "\n",
        " \n",
        "# fit the model with training set\n",
        "scores = cross_val_score(regr, train, train_y, cv=kfold, scoring='neg_mean_squared_error')\n",
        "\n",
        "print (sqrt(-scores.mean()))\n"
      ],
      "execution_count": 56,
      "outputs": [
        {
          "output_type": "stream",
          "text": [
            "2.0553284051538375e+22\n"
          ],
          "name": "stdout"
        },
        {
          "output_type": "stream",
          "text": [
            "/usr/local/lib/python3.6/dist-packages/sklearn/linear_model/stochastic_gradient.py:128: FutureWarning: max_iter and tol parameters have been added in <class 'sklearn.linear_model.stochastic_gradient.SGDRegressor'> in 0.19. If both are left unset, they default to max_iter=5 and tol=None. If tol is not None, max_iter defaults to max_iter=1000. From 0.21, default max_iter will be 1000, and default tol will be 1e-3.\n",
            "  \"and default tol will be 1e-3.\" % type(self), FutureWarning)\n",
            "/usr/local/lib/python3.6/dist-packages/sklearn/linear_model/stochastic_gradient.py:128: FutureWarning: max_iter and tol parameters have been added in <class 'sklearn.linear_model.stochastic_gradient.SGDRegressor'> in 0.19. If both are left unset, they default to max_iter=5 and tol=None. If tol is not None, max_iter defaults to max_iter=1000. From 0.21, default max_iter will be 1000, and default tol will be 1e-3.\n",
            "  \"and default tol will be 1e-3.\" % type(self), FutureWarning)\n",
            "/usr/local/lib/python3.6/dist-packages/sklearn/linear_model/stochastic_gradient.py:128: FutureWarning: max_iter and tol parameters have been added in <class 'sklearn.linear_model.stochastic_gradient.SGDRegressor'> in 0.19. If both are left unset, they default to max_iter=5 and tol=None. If tol is not None, max_iter defaults to max_iter=1000. From 0.21, default max_iter will be 1000, and default tol will be 1e-3.\n",
            "  \"and default tol will be 1e-3.\" % type(self), FutureWarning)\n",
            "/usr/local/lib/python3.6/dist-packages/sklearn/linear_model/stochastic_gradient.py:128: FutureWarning: max_iter and tol parameters have been added in <class 'sklearn.linear_model.stochastic_gradient.SGDRegressor'> in 0.19. If both are left unset, they default to max_iter=5 and tol=None. If tol is not None, max_iter defaults to max_iter=1000. From 0.21, default max_iter will be 1000, and default tol will be 1e-3.\n",
            "  \"and default tol will be 1e-3.\" % type(self), FutureWarning)\n",
            "/usr/local/lib/python3.6/dist-packages/sklearn/linear_model/stochastic_gradient.py:128: FutureWarning: max_iter and tol parameters have been added in <class 'sklearn.linear_model.stochastic_gradient.SGDRegressor'> in 0.19. If both are left unset, they default to max_iter=5 and tol=None. If tol is not None, max_iter defaults to max_iter=1000. From 0.21, default max_iter will be 1000, and default tol will be 1e-3.\n",
            "  \"and default tol will be 1e-3.\" % type(self), FutureWarning)\n",
            "/usr/local/lib/python3.6/dist-packages/sklearn/linear_model/stochastic_gradient.py:128: FutureWarning: max_iter and tol parameters have been added in <class 'sklearn.linear_model.stochastic_gradient.SGDRegressor'> in 0.19. If both are left unset, they default to max_iter=5 and tol=None. If tol is not None, max_iter defaults to max_iter=1000. From 0.21, default max_iter will be 1000, and default tol will be 1e-3.\n",
            "  \"and default tol will be 1e-3.\" % type(self), FutureWarning)\n",
            "/usr/local/lib/python3.6/dist-packages/sklearn/linear_model/stochastic_gradient.py:128: FutureWarning: max_iter and tol parameters have been added in <class 'sklearn.linear_model.stochastic_gradient.SGDRegressor'> in 0.19. If both are left unset, they default to max_iter=5 and tol=None. If tol is not None, max_iter defaults to max_iter=1000. From 0.21, default max_iter will be 1000, and default tol will be 1e-3.\n",
            "  \"and default tol will be 1e-3.\" % type(self), FutureWarning)\n",
            "/usr/local/lib/python3.6/dist-packages/sklearn/linear_model/stochastic_gradient.py:128: FutureWarning: max_iter and tol parameters have been added in <class 'sklearn.linear_model.stochastic_gradient.SGDRegressor'> in 0.19. If both are left unset, they default to max_iter=5 and tol=None. If tol is not None, max_iter defaults to max_iter=1000. From 0.21, default max_iter will be 1000, and default tol will be 1e-3.\n",
            "  \"and default tol will be 1e-3.\" % type(self), FutureWarning)\n",
            "/usr/local/lib/python3.6/dist-packages/sklearn/linear_model/stochastic_gradient.py:128: FutureWarning: max_iter and tol parameters have been added in <class 'sklearn.linear_model.stochastic_gradient.SGDRegressor'> in 0.19. If both are left unset, they default to max_iter=5 and tol=None. If tol is not None, max_iter defaults to max_iter=1000. From 0.21, default max_iter will be 1000, and default tol will be 1e-3.\n",
            "  \"and default tol will be 1e-3.\" % type(self), FutureWarning)\n",
            "/usr/local/lib/python3.6/dist-packages/sklearn/linear_model/stochastic_gradient.py:128: FutureWarning: max_iter and tol parameters have been added in <class 'sklearn.linear_model.stochastic_gradient.SGDRegressor'> in 0.19. If both are left unset, they default to max_iter=5 and tol=None. If tol is not None, max_iter defaults to max_iter=1000. From 0.21, default max_iter will be 1000, and default tol will be 1e-3.\n",
            "  \"and default tol will be 1e-3.\" % type(self), FutureWarning)\n"
          ],
          "name": "stderr"
        }
      ]
    },
    {
      "metadata": {
        "id": "XD67AG5u9KWE",
        "colab_type": "code",
        "colab": {
          "base_uri": "https://localhost:8080/",
          "height": 34
        },
        "outputId": "d5b9cdff-6cf2-4a42-abe8-a30397e5ae11"
      },
      "cell_type": "code",
      "source": [
        "from sklearn.linear_model import ElasticNet\n",
        "\n",
        "regr1 = ElasticNet()\n",
        "\n",
        " \n",
        "# fit the model with training set\n",
        "scores = cross_val_score(regr1, train, train_y, cv=kfold, scoring='neg_mean_squared_error')\n",
        "\n",
        "print (sqrt(-scores.mean()))"
      ],
      "execution_count": 57,
      "outputs": [
        {
          "output_type": "stream",
          "text": [
            "1672089.0254129882\n"
          ],
          "name": "stdout"
        }
      ]
    },
    {
      "metadata": {
        "id": "MlV5XT-d9nMm",
        "colab_type": "code",
        "colab": {
          "base_uri": "https://localhost:8080/",
          "height": 34
        },
        "outputId": "34b65e24-8de8-4463-f167-c81a91ce9685"
      },
      "cell_type": "code",
      "source": [
        "from sklearn.ensemble import AdaBoostRegressor\n",
        "\n",
        "\n",
        "regr1 = AdaBoostRegressor()\n",
        "\n",
        " \n",
        "# fit the model with training set\n",
        "scores = cross_val_score(regr1, train, train_y, cv=kfold, scoring='neg_mean_squared_error')\n",
        "\n",
        "print (sqrt(-scores.mean()))"
      ],
      "execution_count": 58,
      "outputs": [
        {
          "output_type": "stream",
          "text": [
            "2215782.0209435974\n"
          ],
          "name": "stdout"
        }
      ]
    },
    {
      "metadata": {
        "id": "ZBX-p2Cv-hiZ",
        "colab_type": "code",
        "colab": {
          "base_uri": "https://localhost:8080/",
          "height": 34
        },
        "outputId": "b2359fc3-e675-421f-d83f-f62d7775d73d"
      },
      "cell_type": "code",
      "source": [
        "from sklearn.ensemble import BaggingRegressor\n",
        "\n",
        "\n",
        "regr1 = BaggingRegressor()\n",
        "\n",
        " \n",
        "# fit the model with training set\n",
        "scores = cross_val_score(regr1, train, train_y, cv=kfold, scoring='neg_mean_squared_error')\n",
        "\n",
        "print (sqrt(-scores.mean()))"
      ],
      "execution_count": 59,
      "outputs": [
        {
          "output_type": "stream",
          "text": [
            "2146386.4226680966\n"
          ],
          "name": "stdout"
        }
      ]
    },
    {
      "metadata": {
        "id": "fhGZUNSJ-zNk",
        "colab_type": "code",
        "colab": {
          "base_uri": "https://localhost:8080/",
          "height": 34
        },
        "outputId": "fb66c5da-879d-42a3-9010-21de90f56cec"
      },
      "cell_type": "code",
      "source": [
        "from sklearn.linear_model import Ridge\n",
        "\n",
        "regr1 = Ridge()\n",
        "\n",
        " \n",
        "# fit the model with training set\n",
        "scores = cross_val_score(regr1, train, train_y, cv=kfold, scoring='neg_mean_squared_error')\n",
        "\n",
        "print (sqrt(-scores.mean()))"
      ],
      "execution_count": 60,
      "outputs": [
        {
          "output_type": "stream",
          "text": [
            "1686506.7107413947\n"
          ],
          "name": "stdout"
        }
      ]
    },
    {
      "metadata": {
        "id": "BZFkAAQS_E_m",
        "colab_type": "code",
        "colab": {}
      },
      "cell_type": "code",
      "source": [
        "from sklearn.svm import SVR\n",
        "\n",
        "regr1 = SVR(kernel='linear')\n",
        "\n",
        " \n",
        "# fit the model with training set\n",
        "scores = cross_val_score(regr1, train, train_y, cv=kfold, scoring='neg_mean_squared_error')\n",
        "\n",
        "print (sqrt(-scores.mean()))\n"
      ],
      "execution_count": 0,
      "outputs": []
    },
    {
      "metadata": {
        "id": "f7w8ntbVANkb",
        "colab_type": "code",
        "colab": {}
      },
      "cell_type": "code",
      "source": [
        ""
      ],
      "execution_count": 0,
      "outputs": []
    }
  ]
}